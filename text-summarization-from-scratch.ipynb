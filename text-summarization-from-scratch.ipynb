{
 "cells": [
  {
   "cell_type": "markdown",
   "id": "a6dd9e39",
   "metadata": {
    "editable": false,
    "papermill": {
     "duration": 0.01611,
     "end_time": "2024-09-29T17:52:02.664665",
     "exception": false,
     "start_time": "2024-09-29T17:52:02.648555",
     "status": "completed"
    },
    "tags": []
   },
   "source": [
    "### Install and Import libraries "
   ]
  },
  {
   "cell_type": "code",
   "execution_count": 1,
   "id": "4ab80843",
   "metadata": {
    "editable": false,
    "execution": {
     "iopub.execute_input": "2024-09-29T17:52:02.696697Z",
     "iopub.status.busy": "2024-09-29T17:52:02.696416Z",
     "iopub.status.idle": "2024-09-29T17:52:16.149901Z",
     "shell.execute_reply": "2024-09-29T17:52:16.148732Z"
    },
    "papermill": {
     "duration": 13.471906,
     "end_time": "2024-09-29T17:52:16.152091",
     "exception": false,
     "start_time": "2024-09-29T17:52:02.680185",
     "status": "completed"
    },
    "scrolled": true,
    "tags": []
   },
   "outputs": [
    {
     "name": "stdout",
     "output_type": "stream",
     "text": [
      "Collecting Keras-Preprocessing\r\n",
      "  Downloading Keras_Preprocessing-1.1.2-py2.py3-none-any.whl.metadata (1.9 kB)\r\n",
      "Requirement already satisfied: numpy>=1.9.1 in /opt/conda/lib/python3.10/site-packages (from Keras-Preprocessing) (1.26.4)\r\n",
      "Requirement already satisfied: six>=1.9.0 in /opt/conda/lib/python3.10/site-packages (from Keras-Preprocessing) (1.16.0)\r\n",
      "Downloading Keras_Preprocessing-1.1.2-py2.py3-none-any.whl (42 kB)\r\n",
      "\u001b[2K   \u001b[90m━━━━━━━━━━━━━━━━━━━━━━━━━━━━━━━━━━━━━━━━\u001b[0m \u001b[32m42.6/42.6 kB\u001b[0m \u001b[31m1.9 MB/s\u001b[0m eta \u001b[36m0:00:00\u001b[0m\r\n",
      "\u001b[?25hInstalling collected packages: Keras-Preprocessing\r\n",
      "Successfully installed Keras-Preprocessing-1.1.2\r\n",
      "Note: you may need to restart the kernel to use updated packages.\n"
     ]
    }
   ],
   "source": [
    "pip install Keras-Preprocessing"
   ]
  },
  {
   "cell_type": "code",
   "execution_count": 2,
   "id": "40f3be45",
   "metadata": {
    "editable": false,
    "execution": {
     "iopub.execute_input": "2024-09-29T17:52:16.187014Z",
     "iopub.status.busy": "2024-09-29T17:52:16.186472Z",
     "iopub.status.idle": "2024-09-29T17:52:30.662989Z",
     "shell.execute_reply": "2024-09-29T17:52:30.661822Z"
    },
    "papermill": {
     "duration": 14.496698,
     "end_time": "2024-09-29T17:52:30.665190",
     "exception": false,
     "start_time": "2024-09-29T17:52:16.168492",
     "status": "completed"
    },
    "scrolled": true,
    "tags": []
   },
   "outputs": [
    {
     "name": "stdout",
     "output_type": "stream",
     "text": [
      "Collecting attention\r\n",
      "  Downloading attention-5.0.0-py3-none-any.whl.metadata (4.3 kB)\r\n",
      "Requirement already satisfied: numpy>=1.18.1 in /opt/conda/lib/python3.10/site-packages (from attention) (1.26.4)\r\n",
      "Requirement already satisfied: tensorflow>=2.1 in /opt/conda/lib/python3.10/site-packages (from attention) (2.15.0)\r\n",
      "Requirement already satisfied: absl-py>=1.0.0 in /opt/conda/lib/python3.10/site-packages (from tensorflow>=2.1->attention) (1.4.0)\r\n",
      "Requirement already satisfied: astunparse>=1.6.0 in /opt/conda/lib/python3.10/site-packages (from tensorflow>=2.1->attention) (1.6.3)\r\n",
      "Requirement already satisfied: flatbuffers>=23.5.26 in /opt/conda/lib/python3.10/site-packages (from tensorflow>=2.1->attention) (23.5.26)\r\n",
      "Requirement already satisfied: gast!=0.5.0,!=0.5.1,!=0.5.2,>=0.2.1 in /opt/conda/lib/python3.10/site-packages (from tensorflow>=2.1->attention) (0.5.4)\r\n",
      "Requirement already satisfied: google-pasta>=0.1.1 in /opt/conda/lib/python3.10/site-packages (from tensorflow>=2.1->attention) (0.2.0)\r\n",
      "Requirement already satisfied: h5py>=2.9.0 in /opt/conda/lib/python3.10/site-packages (from tensorflow>=2.1->attention) (3.10.0)\r\n",
      "Requirement already satisfied: libclang>=13.0.0 in /opt/conda/lib/python3.10/site-packages (from tensorflow>=2.1->attention) (16.0.6)\r\n",
      "Requirement already satisfied: ml-dtypes~=0.2.0 in /opt/conda/lib/python3.10/site-packages (from tensorflow>=2.1->attention) (0.2.0)\r\n",
      "Requirement already satisfied: opt-einsum>=2.3.2 in /opt/conda/lib/python3.10/site-packages (from tensorflow>=2.1->attention) (3.3.0)\r\n",
      "Requirement already satisfied: packaging in /opt/conda/lib/python3.10/site-packages (from tensorflow>=2.1->attention) (21.3)\r\n",
      "Requirement already satisfied: protobuf!=4.21.0,!=4.21.1,!=4.21.2,!=4.21.3,!=4.21.4,!=4.21.5,<5.0.0dev,>=3.20.3 in /opt/conda/lib/python3.10/site-packages (from tensorflow>=2.1->attention) (3.20.3)\r\n",
      "Requirement already satisfied: setuptools in /opt/conda/lib/python3.10/site-packages (from tensorflow>=2.1->attention) (69.0.3)\r\n",
      "Requirement already satisfied: six>=1.12.0 in /opt/conda/lib/python3.10/site-packages (from tensorflow>=2.1->attention) (1.16.0)\r\n",
      "Requirement already satisfied: termcolor>=1.1.0 in /opt/conda/lib/python3.10/site-packages (from tensorflow>=2.1->attention) (2.4.0)\r\n",
      "Requirement already satisfied: typing-extensions>=3.6.6 in /opt/conda/lib/python3.10/site-packages (from tensorflow>=2.1->attention) (4.9.0)\r\n",
      "Requirement already satisfied: wrapt<1.15,>=1.11.0 in /opt/conda/lib/python3.10/site-packages (from tensorflow>=2.1->attention) (1.14.1)\r\n",
      "Requirement already satisfied: tensorflow-io-gcs-filesystem>=0.23.1 in /opt/conda/lib/python3.10/site-packages (from tensorflow>=2.1->attention) (0.35.0)\r\n",
      "Requirement already satisfied: grpcio<2.0,>=1.24.3 in /opt/conda/lib/python3.10/site-packages (from tensorflow>=2.1->attention) (1.51.1)\r\n",
      "Requirement already satisfied: tensorboard<2.16,>=2.15 in /opt/conda/lib/python3.10/site-packages (from tensorflow>=2.1->attention) (2.15.1)\r\n",
      "Requirement already satisfied: tensorflow-estimator<2.16,>=2.15.0 in /opt/conda/lib/python3.10/site-packages (from tensorflow>=2.1->attention) (2.15.0)\r\n",
      "Collecting keras<2.16,>=2.15.0 (from tensorflow>=2.1->attention)\r\n",
      "  Downloading keras-2.15.0-py3-none-any.whl.metadata (2.4 kB)\r\n",
      "Requirement already satisfied: wheel<1.0,>=0.23.0 in /opt/conda/lib/python3.10/site-packages (from astunparse>=1.6.0->tensorflow>=2.1->attention) (0.42.0)\r\n",
      "Requirement already satisfied: google-auth<3,>=1.6.3 in /opt/conda/lib/python3.10/site-packages (from tensorboard<2.16,>=2.15->tensorflow>=2.1->attention) (2.26.1)\r\n",
      "Requirement already satisfied: google-auth-oauthlib<2,>=0.5 in /opt/conda/lib/python3.10/site-packages (from tensorboard<2.16,>=2.15->tensorflow>=2.1->attention) (1.2.0)\r\n",
      "Requirement already satisfied: markdown>=2.6.8 in /opt/conda/lib/python3.10/site-packages (from tensorboard<2.16,>=2.15->tensorflow>=2.1->attention) (3.5.2)\r\n",
      "Requirement already satisfied: requests<3,>=2.21.0 in /opt/conda/lib/python3.10/site-packages (from tensorboard<2.16,>=2.15->tensorflow>=2.1->attention) (2.31.0)\r\n",
      "Requirement already satisfied: tensorboard-data-server<0.8.0,>=0.7.0 in /opt/conda/lib/python3.10/site-packages (from tensorboard<2.16,>=2.15->tensorflow>=2.1->attention) (0.7.2)\r\n",
      "Requirement already satisfied: werkzeug>=1.0.1 in /opt/conda/lib/python3.10/site-packages (from tensorboard<2.16,>=2.15->tensorflow>=2.1->attention) (3.0.1)\r\n",
      "Requirement already satisfied: pyparsing!=3.0.5,>=2.0.2 in /opt/conda/lib/python3.10/site-packages (from packaging->tensorflow>=2.1->attention) (3.1.1)\r\n",
      "Requirement already satisfied: cachetools<6.0,>=2.0.0 in /opt/conda/lib/python3.10/site-packages (from google-auth<3,>=1.6.3->tensorboard<2.16,>=2.15->tensorflow>=2.1->attention) (4.2.4)\r\n",
      "Requirement already satisfied: pyasn1-modules>=0.2.1 in /opt/conda/lib/python3.10/site-packages (from google-auth<3,>=1.6.3->tensorboard<2.16,>=2.15->tensorflow>=2.1->attention) (0.3.0)\r\n",
      "Requirement already satisfied: rsa<5,>=3.1.4 in /opt/conda/lib/python3.10/site-packages (from google-auth<3,>=1.6.3->tensorboard<2.16,>=2.15->tensorflow>=2.1->attention) (4.9)\r\n",
      "Requirement already satisfied: requests-oauthlib>=0.7.0 in /opt/conda/lib/python3.10/site-packages (from google-auth-oauthlib<2,>=0.5->tensorboard<2.16,>=2.15->tensorflow>=2.1->attention) (1.3.1)\r\n",
      "Requirement already satisfied: charset-normalizer<4,>=2 in /opt/conda/lib/python3.10/site-packages (from requests<3,>=2.21.0->tensorboard<2.16,>=2.15->tensorflow>=2.1->attention) (3.3.2)\r\n",
      "Requirement already satisfied: idna<4,>=2.5 in /opt/conda/lib/python3.10/site-packages (from requests<3,>=2.21.0->tensorboard<2.16,>=2.15->tensorflow>=2.1->attention) (3.6)\r\n",
      "Requirement already satisfied: urllib3<3,>=1.21.1 in /opt/conda/lib/python3.10/site-packages (from requests<3,>=2.21.0->tensorboard<2.16,>=2.15->tensorflow>=2.1->attention) (1.26.18)\r\n",
      "Requirement already satisfied: certifi>=2017.4.17 in /opt/conda/lib/python3.10/site-packages (from requests<3,>=2.21.0->tensorboard<2.16,>=2.15->tensorflow>=2.1->attention) (2024.2.2)\r\n",
      "Requirement already satisfied: MarkupSafe>=2.1.1 in /opt/conda/lib/python3.10/site-packages (from werkzeug>=1.0.1->tensorboard<2.16,>=2.15->tensorflow>=2.1->attention) (2.1.3)\r\n",
      "Requirement already satisfied: pyasn1<0.6.0,>=0.4.6 in /opt/conda/lib/python3.10/site-packages (from pyasn1-modules>=0.2.1->google-auth<3,>=1.6.3->tensorboard<2.16,>=2.15->tensorflow>=2.1->attention) (0.5.1)\r\n",
      "Requirement already satisfied: oauthlib>=3.0.0 in /opt/conda/lib/python3.10/site-packages (from requests-oauthlib>=0.7.0->google-auth-oauthlib<2,>=0.5->tensorboard<2.16,>=2.15->tensorflow>=2.1->attention) (3.2.2)\r\n",
      "Downloading attention-5.0.0-py3-none-any.whl (9.0 kB)\r\n",
      "Downloading keras-2.15.0-py3-none-any.whl (1.7 MB)\r\n",
      "\u001b[2K   \u001b[90m━━━━━━━━━━━━━━━━━━━━━━━━━━━━━━━━━━━━━━━━\u001b[0m \u001b[32m1.7/1.7 MB\u001b[0m \u001b[31m28.4 MB/s\u001b[0m eta \u001b[36m0:00:00\u001b[0m\r\n",
      "\u001b[?25hInstalling collected packages: keras, attention\r\n",
      "  Attempting uninstall: keras\r\n",
      "    Found existing installation: keras 3.0.5\r\n",
      "    Uninstalling keras-3.0.5:\r\n",
      "      Successfully uninstalled keras-3.0.5\r\n",
      "\u001b[31mERROR: pip's dependency resolver does not currently take into account all the packages that are installed. This behaviour is the source of the following dependency conflicts.\r\n",
      "tensorflow-decision-forests 1.8.1 requires wurlitzer, which is not installed.\u001b[0m\u001b[31m\r\n",
      "\u001b[0mSuccessfully installed attention-5.0.0 keras-2.15.0\r\n",
      "Note: you may need to restart the kernel to use updated packages.\n"
     ]
    }
   ],
   "source": [
    "pip install attention"
   ]
  },
  {
   "cell_type": "code",
   "execution_count": 3,
   "id": "aaef970d",
   "metadata": {
    "editable": false,
    "execution": {
     "iopub.execute_input": "2024-09-29T17:52:30.702563Z",
     "iopub.status.busy": "2024-09-29T17:52:30.702241Z",
     "iopub.status.idle": "2024-09-29T17:52:43.280668Z",
     "shell.execute_reply": "2024-09-29T17:52:43.279425Z"
    },
    "papermill": {
     "duration": 12.599592,
     "end_time": "2024-09-29T17:52:43.282967",
     "exception": false,
     "start_time": "2024-09-29T17:52:30.683375",
     "status": "completed"
    },
    "scrolled": true,
    "tags": []
   },
   "outputs": [
    {
     "name": "stdout",
     "output_type": "stream",
     "text": [
      "Collecting evaluate\r\n",
      "  Downloading evaluate-0.4.3-py3-none-any.whl.metadata (9.2 kB)\r\n",
      "Requirement already satisfied: datasets>=2.0.0 in /opt/conda/lib/python3.10/site-packages (from evaluate) (2.1.0)\r\n",
      "Requirement already satisfied: numpy>=1.17 in /opt/conda/lib/python3.10/site-packages (from evaluate) (1.26.4)\r\n",
      "Requirement already satisfied: dill in /opt/conda/lib/python3.10/site-packages (from evaluate) (0.3.8)\r\n",
      "Requirement already satisfied: pandas in /opt/conda/lib/python3.10/site-packages (from evaluate) (2.1.4)\r\n",
      "Requirement already satisfied: requests>=2.19.0 in /opt/conda/lib/python3.10/site-packages (from evaluate) (2.31.0)\r\n",
      "Requirement already satisfied: tqdm>=4.62.1 in /opt/conda/lib/python3.10/site-packages (from evaluate) (4.66.1)\r\n",
      "Requirement already satisfied: xxhash in /opt/conda/lib/python3.10/site-packages (from evaluate) (3.4.1)\r\n",
      "Requirement already satisfied: multiprocess in /opt/conda/lib/python3.10/site-packages (from evaluate) (0.70.16)\r\n",
      "Requirement already satisfied: fsspec>=2021.05.0 in /opt/conda/lib/python3.10/site-packages (from fsspec[http]>=2021.05.0->evaluate) (2024.2.0)\r\n",
      "Requirement already satisfied: huggingface-hub>=0.7.0 in /opt/conda/lib/python3.10/site-packages (from evaluate) (0.20.3)\r\n",
      "Requirement already satisfied: packaging in /opt/conda/lib/python3.10/site-packages (from evaluate) (21.3)\r\n",
      "Requirement already satisfied: pyarrow>=5.0.0 in /opt/conda/lib/python3.10/site-packages (from datasets>=2.0.0->evaluate) (11.0.0)\r\n",
      "Requirement already satisfied: aiohttp in /opt/conda/lib/python3.10/site-packages (from datasets>=2.0.0->evaluate) (3.9.1)\r\n",
      "Requirement already satisfied: responses<0.19 in /opt/conda/lib/python3.10/site-packages (from datasets>=2.0.0->evaluate) (0.18.0)\r\n",
      "Requirement already satisfied: filelock in /opt/conda/lib/python3.10/site-packages (from huggingface-hub>=0.7.0->evaluate) (3.13.1)\r\n",
      "Requirement already satisfied: pyyaml>=5.1 in /opt/conda/lib/python3.10/site-packages (from huggingface-hub>=0.7.0->evaluate) (6.0.1)\r\n",
      "Requirement already satisfied: typing-extensions>=3.7.4.3 in /opt/conda/lib/python3.10/site-packages (from huggingface-hub>=0.7.0->evaluate) (4.9.0)\r\n",
      "Requirement already satisfied: pyparsing!=3.0.5,>=2.0.2 in /opt/conda/lib/python3.10/site-packages (from packaging->evaluate) (3.1.1)\r\n",
      "Requirement already satisfied: charset-normalizer<4,>=2 in /opt/conda/lib/python3.10/site-packages (from requests>=2.19.0->evaluate) (3.3.2)\r\n",
      "Requirement already satisfied: idna<4,>=2.5 in /opt/conda/lib/python3.10/site-packages (from requests>=2.19.0->evaluate) (3.6)\r\n",
      "Requirement already satisfied: urllib3<3,>=1.21.1 in /opt/conda/lib/python3.10/site-packages (from requests>=2.19.0->evaluate) (1.26.18)\r\n",
      "Requirement already satisfied: certifi>=2017.4.17 in /opt/conda/lib/python3.10/site-packages (from requests>=2.19.0->evaluate) (2024.2.2)\r\n",
      "Requirement already satisfied: python-dateutil>=2.8.2 in /opt/conda/lib/python3.10/site-packages (from pandas->evaluate) (2.8.2)\r\n",
      "Requirement already satisfied: pytz>=2020.1 in /opt/conda/lib/python3.10/site-packages (from pandas->evaluate) (2023.3.post1)\r\n",
      "Requirement already satisfied: tzdata>=2022.1 in /opt/conda/lib/python3.10/site-packages (from pandas->evaluate) (2023.4)\r\n",
      "Requirement already satisfied: attrs>=17.3.0 in /opt/conda/lib/python3.10/site-packages (from aiohttp->datasets>=2.0.0->evaluate) (23.2.0)\r\n",
      "Requirement already satisfied: multidict<7.0,>=4.5 in /opt/conda/lib/python3.10/site-packages (from aiohttp->datasets>=2.0.0->evaluate) (6.0.4)\r\n",
      "Requirement already satisfied: yarl<2.0,>=1.0 in /opt/conda/lib/python3.10/site-packages (from aiohttp->datasets>=2.0.0->evaluate) (1.9.3)\r\n",
      "Requirement already satisfied: frozenlist>=1.1.1 in /opt/conda/lib/python3.10/site-packages (from aiohttp->datasets>=2.0.0->evaluate) (1.4.1)\r\n",
      "Requirement already satisfied: aiosignal>=1.1.2 in /opt/conda/lib/python3.10/site-packages (from aiohttp->datasets>=2.0.0->evaluate) (1.3.1)\r\n",
      "Requirement already satisfied: async-timeout<5.0,>=4.0 in /opt/conda/lib/python3.10/site-packages (from aiohttp->datasets>=2.0.0->evaluate) (4.0.3)\r\n",
      "Requirement already satisfied: six>=1.5 in /opt/conda/lib/python3.10/site-packages (from python-dateutil>=2.8.2->pandas->evaluate) (1.16.0)\r\n",
      "Downloading evaluate-0.4.3-py3-none-any.whl (84 kB)\r\n",
      "\u001b[2K   \u001b[90m━━━━━━━━━━━━━━━━━━━━━━━━━━━━━━━━━━━━━━━━\u001b[0m \u001b[32m84.0/84.0 kB\u001b[0m \u001b[31m2.9 MB/s\u001b[0m eta \u001b[36m0:00:00\u001b[0m\r\n",
      "\u001b[?25hInstalling collected packages: evaluate\r\n",
      "Successfully installed evaluate-0.4.3\r\n",
      "Note: you may need to restart the kernel to use updated packages.\n"
     ]
    }
   ],
   "source": [
    "pip install evaluate"
   ]
  },
  {
   "cell_type": "code",
   "execution_count": 4,
   "id": "df038470",
   "metadata": {
    "editable": false,
    "execution": {
     "iopub.execute_input": "2024-09-29T17:52:43.322268Z",
     "iopub.status.busy": "2024-09-29T17:52:43.321732Z",
     "iopub.status.idle": "2024-09-29T17:52:57.922592Z",
     "shell.execute_reply": "2024-09-29T17:52:57.921401Z"
    },
    "papermill": {
     "duration": 14.623029,
     "end_time": "2024-09-29T17:52:57.924992",
     "exception": false,
     "start_time": "2024-09-29T17:52:43.301963",
     "status": "completed"
    },
    "scrolled": true,
    "tags": []
   },
   "outputs": [
    {
     "name": "stdout",
     "output_type": "stream",
     "text": [
      "Collecting rouge_score\r\n",
      "  Downloading rouge_score-0.1.2.tar.gz (17 kB)\r\n",
      "  Preparing metadata (setup.py) ... \u001b[?25l-\b \bdone\r\n",
      "\u001b[?25hRequirement already satisfied: absl-py in /opt/conda/lib/python3.10/site-packages (from rouge_score) (1.4.0)\r\n",
      "Requirement already satisfied: nltk in /opt/conda/lib/python3.10/site-packages (from rouge_score) (3.2.4)\r\n",
      "Requirement already satisfied: numpy in /opt/conda/lib/python3.10/site-packages (from rouge_score) (1.26.4)\r\n",
      "Requirement already satisfied: six>=1.14.0 in /opt/conda/lib/python3.10/site-packages (from rouge_score) (1.16.0)\r\n",
      "Building wheels for collected packages: rouge_score\r\n",
      "  Building wheel for rouge_score (setup.py) ... \u001b[?25l-\b \b\\\b \bdone\r\n",
      "\u001b[?25h  Created wheel for rouge_score: filename=rouge_score-0.1.2-py3-none-any.whl size=24934 sha256=a2c367bf06c9568ca4683dd9c70fa40ec6513015a62874a9c1f1e9e4f4daa161\r\n",
      "  Stored in directory: /root/.cache/pip/wheels/5f/dd/89/461065a73be61a532ff8599a28e9beef17985c9e9c31e541b4\r\n",
      "Successfully built rouge_score\r\n",
      "Installing collected packages: rouge_score\r\n",
      "Successfully installed rouge_score-0.1.2\r\n",
      "Note: you may need to restart the kernel to use updated packages.\n"
     ]
    }
   ],
   "source": [
    "pip install rouge_score"
   ]
  },
  {
   "cell_type": "code",
   "execution_count": 5,
   "id": "42dba0f0",
   "metadata": {
    "execution": {
     "iopub.execute_input": "2024-09-29T17:52:57.965739Z",
     "iopub.status.busy": "2024-09-29T17:52:57.965424Z",
     "iopub.status.idle": "2024-09-29T17:53:11.642305Z",
     "shell.execute_reply": "2024-09-29T17:53:11.641549Z"
    },
    "papermill": {
     "duration": 13.699785,
     "end_time": "2024-09-29T17:53:11.644620",
     "exception": false,
     "start_time": "2024-09-29T17:52:57.944835",
     "status": "completed"
    },
    "tags": []
   },
   "outputs": [
    {
     "name": "stderr",
     "output_type": "stream",
     "text": [
      "2024-09-29 17:53:02.192040: E external/local_xla/xla/stream_executor/cuda/cuda_dnn.cc:9261] Unable to register cuDNN factory: Attempting to register factory for plugin cuDNN when one has already been registered\n",
      "2024-09-29 17:53:02.192159: E external/local_xla/xla/stream_executor/cuda/cuda_fft.cc:607] Unable to register cuFFT factory: Attempting to register factory for plugin cuFFT when one has already been registered\n",
      "2024-09-29 17:53:02.325175: E external/local_xla/xla/stream_executor/cuda/cuda_blas.cc:1515] Unable to register cuBLAS factory: Attempting to register factory for plugin cuBLAS when one has already been registered\n"
     ]
    }
   ],
   "source": [
    "import numpy as np\n",
    "import pandas as pd\n",
    "import matplotlib.pyplot as plt\n",
    "import re           \n",
    "import nltk\n",
    "from nltk.tokenize import word_tokenize\n",
    "from nltk.corpus import stopwords\n",
    "stop_words = set(stopwords.words('english'))\n",
    "from string import punctuation\n",
    "punctuation = list(punctuation)\n",
    "from nltk.stem import WordNetLemmatizer\n",
    "lemmatizer = WordNetLemmatizer()\n",
    "from bs4 import BeautifulSoup\n",
    "import tensorflow as tf\n",
    "import keras\n",
    "from keras_preprocessing.text import Tokenizer \n",
    "from keras_preprocessing.sequence import pad_sequences\n",
    "from nltk.corpus import stopwords   \n",
    "from keras.layers import Input, LSTM, Embedding, Dense, Concatenate, TimeDistributed, Bidirectional, GRU, Attention\n",
    "from keras.models import Model\n",
    "from keras.callbacks import EarlyStopping\n",
    "import warnings\n",
    "import os\n",
    "warnings.filterwarnings(\"ignore\")"
   ]
  },
  {
   "cell_type": "markdown",
   "id": "9a9fd2a2",
   "metadata": {
    "editable": false,
    "papermill": {
     "duration": 0.019196,
     "end_time": "2024-09-29T17:53:11.683560",
     "exception": false,
     "start_time": "2024-09-29T17:53:11.664364",
     "status": "completed"
    },
    "tags": []
   },
   "source": [
    "### Read data and preparing it"
   ]
  },
  {
   "cell_type": "code",
   "execution_count": 6,
   "id": "727fa125",
   "metadata": {
    "editable": false,
    "execution": {
     "iopub.execute_input": "2024-09-29T17:53:11.723636Z",
     "iopub.status.busy": "2024-09-29T17:53:11.723065Z",
     "iopub.status.idle": "2024-09-29T17:53:37.330441Z",
     "shell.execute_reply": "2024-09-29T17:53:37.329654Z"
    },
    "papermill": {
     "duration": 25.63018,
     "end_time": "2024-09-29T17:53:37.332849",
     "exception": false,
     "start_time": "2024-09-29T17:53:11.702669",
     "status": "completed"
    },
    "tags": []
   },
   "outputs": [],
   "source": [
    "df_train = pd.read_csv('/kaggle/input/newspaper-text-summarization-cnn-dailymail/cnn_dailymail/train.csv')\n",
    "df_valid = pd.read_csv('/kaggle/input/newspaper-text-summarization-cnn-dailymail/cnn_dailymail/validation.csv')\n",
    "df_test  = pd.read_csv('/kaggle/input/newspaper-text-summarization-cnn-dailymail/cnn_dailymail/test.csv')"
   ]
  },
  {
   "cell_type": "code",
   "execution_count": 7,
   "id": "2f9bc660",
   "metadata": {
    "editable": false,
    "execution": {
     "iopub.execute_input": "2024-09-29T17:53:37.373795Z",
     "iopub.status.busy": "2024-09-29T17:53:37.373473Z",
     "iopub.status.idle": "2024-09-29T17:53:37.390914Z",
     "shell.execute_reply": "2024-09-29T17:53:37.390026Z"
    },
    "papermill": {
     "duration": 0.039882,
     "end_time": "2024-09-29T17:53:37.392940",
     "exception": false,
     "start_time": "2024-09-29T17:53:37.353058",
     "status": "completed"
    },
    "tags": []
   },
   "outputs": [
    {
     "data": {
      "text/html": [
       "<div>\n",
       "<style scoped>\n",
       "    .dataframe tbody tr th:only-of-type {\n",
       "        vertical-align: middle;\n",
       "    }\n",
       "\n",
       "    .dataframe tbody tr th {\n",
       "        vertical-align: top;\n",
       "    }\n",
       "\n",
       "    .dataframe thead th {\n",
       "        text-align: right;\n",
       "    }\n",
       "</style>\n",
       "<table border=\"1\" class=\"dataframe\">\n",
       "  <thead>\n",
       "    <tr style=\"text-align: right;\">\n",
       "      <th></th>\n",
       "      <th>id</th>\n",
       "      <th>article</th>\n",
       "      <th>highlights</th>\n",
       "    </tr>\n",
       "  </thead>\n",
       "  <tbody>\n",
       "    <tr>\n",
       "      <th>0</th>\n",
       "      <td>0001d1afc246a7964130f43ae940af6bc6c57f01</td>\n",
       "      <td>By . Associated Press . PUBLISHED: . 14:11 EST...</td>\n",
       "      <td>Bishop John Folda, of North Dakota, is taking ...</td>\n",
       "    </tr>\n",
       "    <tr>\n",
       "      <th>1</th>\n",
       "      <td>0002095e55fcbd3a2f366d9bf92a95433dc305ef</td>\n",
       "      <td>(CNN) -- Ralph Mata was an internal affairs li...</td>\n",
       "      <td>Criminal complaint: Cop used his role to help ...</td>\n",
       "    </tr>\n",
       "    <tr>\n",
       "      <th>2</th>\n",
       "      <td>00027e965c8264c35cc1bc55556db388da82b07f</td>\n",
       "      <td>A drunk driver who killed a young woman in a h...</td>\n",
       "      <td>Craig Eccleston-Todd, 27, had drunk at least t...</td>\n",
       "    </tr>\n",
       "    <tr>\n",
       "      <th>3</th>\n",
       "      <td>0002c17436637c4fe1837c935c04de47adb18e9a</td>\n",
       "      <td>(CNN) -- With a breezy sweep of his pen Presid...</td>\n",
       "      <td>Nina dos Santos says Europe must be ready to a...</td>\n",
       "    </tr>\n",
       "    <tr>\n",
       "      <th>4</th>\n",
       "      <td>0003ad6ef0c37534f80b55b4235108024b407f0b</td>\n",
       "      <td>Fleetwood are the only team still to have a 10...</td>\n",
       "      <td>Fleetwood top of League One after 2-0 win at S...</td>\n",
       "    </tr>\n",
       "    <tr>\n",
       "      <th>...</th>\n",
       "      <td>...</td>\n",
       "      <td>...</td>\n",
       "      <td>...</td>\n",
       "    </tr>\n",
       "    <tr>\n",
       "      <th>287108</th>\n",
       "      <td>fffdfb56fdf1a12d364562cc2b9b1d4de7481dee</td>\n",
       "      <td>By . James Rush . Former first daughter Chelse...</td>\n",
       "      <td>Chelsea Clinton said question of running for o...</td>\n",
       "    </tr>\n",
       "    <tr>\n",
       "      <th>287109</th>\n",
       "      <td>fffeecb8690b85de8c3faed80adbc7a978f9ae2a</td>\n",
       "      <td>An apologetic Vanilla Ice has given his first ...</td>\n",
       "      <td>Vanilla Ice, 47 - real name Robert Van Winkle ...</td>\n",
       "    </tr>\n",
       "    <tr>\n",
       "      <th>287110</th>\n",
       "      <td>ffff5231e4c71544bc6c97015cdb16c60e42b3f4</td>\n",
       "      <td>America's most lethal sniper claimed he wished...</td>\n",
       "      <td>America's most lethal sniper made comment in i...</td>\n",
       "    </tr>\n",
       "    <tr>\n",
       "      <th>287111</th>\n",
       "      <td>ffff924b14a8d82058b6c1c5368ff1113c1632af</td>\n",
       "      <td>By . Sara Malm . PUBLISHED: . 12:19 EST, 8 Mar...</td>\n",
       "      <td>A swarm of more than one million has crossed b...</td>\n",
       "    </tr>\n",
       "    <tr>\n",
       "      <th>287112</th>\n",
       "      <td>ffffd563a96104f5cf4493cfa701a65f31b06abf</td>\n",
       "      <td>(CNN)Former Florida Gov. Jeb Bush has decided ...</td>\n",
       "      <td>Other 2016 hopefuls maintain that Bush's annou...</td>\n",
       "    </tr>\n",
       "  </tbody>\n",
       "</table>\n",
       "<p>287113 rows × 3 columns</p>\n",
       "</div>"
      ],
      "text/plain": [
       "                                              id  \\\n",
       "0       0001d1afc246a7964130f43ae940af6bc6c57f01   \n",
       "1       0002095e55fcbd3a2f366d9bf92a95433dc305ef   \n",
       "2       00027e965c8264c35cc1bc55556db388da82b07f   \n",
       "3       0002c17436637c4fe1837c935c04de47adb18e9a   \n",
       "4       0003ad6ef0c37534f80b55b4235108024b407f0b   \n",
       "...                                          ...   \n",
       "287108  fffdfb56fdf1a12d364562cc2b9b1d4de7481dee   \n",
       "287109  fffeecb8690b85de8c3faed80adbc7a978f9ae2a   \n",
       "287110  ffff5231e4c71544bc6c97015cdb16c60e42b3f4   \n",
       "287111  ffff924b14a8d82058b6c1c5368ff1113c1632af   \n",
       "287112  ffffd563a96104f5cf4493cfa701a65f31b06abf   \n",
       "\n",
       "                                                  article  \\\n",
       "0       By . Associated Press . PUBLISHED: . 14:11 EST...   \n",
       "1       (CNN) -- Ralph Mata was an internal affairs li...   \n",
       "2       A drunk driver who killed a young woman in a h...   \n",
       "3       (CNN) -- With a breezy sweep of his pen Presid...   \n",
       "4       Fleetwood are the only team still to have a 10...   \n",
       "...                                                   ...   \n",
       "287108  By . James Rush . Former first daughter Chelse...   \n",
       "287109  An apologetic Vanilla Ice has given his first ...   \n",
       "287110  America's most lethal sniper claimed he wished...   \n",
       "287111  By . Sara Malm . PUBLISHED: . 12:19 EST, 8 Mar...   \n",
       "287112  (CNN)Former Florida Gov. Jeb Bush has decided ...   \n",
       "\n",
       "                                               highlights  \n",
       "0       Bishop John Folda, of North Dakota, is taking ...  \n",
       "1       Criminal complaint: Cop used his role to help ...  \n",
       "2       Craig Eccleston-Todd, 27, had drunk at least t...  \n",
       "3       Nina dos Santos says Europe must be ready to a...  \n",
       "4       Fleetwood top of League One after 2-0 win at S...  \n",
       "...                                                   ...  \n",
       "287108  Chelsea Clinton said question of running for o...  \n",
       "287109  Vanilla Ice, 47 - real name Robert Van Winkle ...  \n",
       "287110  America's most lethal sniper made comment in i...  \n",
       "287111  A swarm of more than one million has crossed b...  \n",
       "287112  Other 2016 hopefuls maintain that Bush's annou...  \n",
       "\n",
       "[287113 rows x 3 columns]"
      ]
     },
     "execution_count": 7,
     "metadata": {},
     "output_type": "execute_result"
    }
   ],
   "source": [
    "df_train"
   ]
  },
  {
   "cell_type": "code",
   "execution_count": 8,
   "id": "7be11e9c",
   "metadata": {
    "editable": false,
    "execution": {
     "iopub.execute_input": "2024-09-29T17:53:37.432806Z",
     "iopub.status.busy": "2024-09-29T17:53:37.432526Z",
     "iopub.status.idle": "2024-09-29T17:53:38.561180Z",
     "shell.execute_reply": "2024-09-29T17:53:38.560393Z"
    },
    "papermill": {
     "duration": 1.151184,
     "end_time": "2024-09-29T17:53:38.563475",
     "exception": false,
     "start_time": "2024-09-29T17:53:37.412291",
     "status": "completed"
    },
    "tags": []
   },
   "outputs": [],
   "source": [
    "df_train.drop_duplicates(subset=['article'],inplace=True)  #dropping duplicates\n",
    "df_train.dropna(axis=0,inplace=True)   #dropping na"
   ]
  },
  {
   "cell_type": "code",
   "execution_count": 9,
   "id": "486cb253",
   "metadata": {
    "editable": false,
    "execution": {
     "iopub.execute_input": "2024-09-29T17:53:38.604861Z",
     "iopub.status.busy": "2024-09-29T17:53:38.604557Z",
     "iopub.status.idle": "2024-09-29T17:53:38.609822Z",
     "shell.execute_reply": "2024-09-29T17:53:38.609096Z"
    },
    "papermill": {
     "duration": 0.027911,
     "end_time": "2024-09-29T17:53:38.611881",
     "exception": false,
     "start_time": "2024-09-29T17:53:38.583970",
     "status": "completed"
    },
    "tags": []
   },
   "outputs": [],
   "source": [
    "df_train.reset_index(inplace=True)"
   ]
  },
  {
   "cell_type": "code",
   "execution_count": 10,
   "id": "3f3c05e1",
   "metadata": {
    "editable": false,
    "execution": {
     "iopub.execute_input": "2024-09-29T17:53:38.652007Z",
     "iopub.status.busy": "2024-09-29T17:53:38.651728Z",
     "iopub.status.idle": "2024-09-29T17:53:38.664566Z",
     "shell.execute_reply": "2024-09-29T17:53:38.663682Z"
    },
    "papermill": {
     "duration": 0.035419,
     "end_time": "2024-09-29T17:53:38.666650",
     "exception": false,
     "start_time": "2024-09-29T17:53:38.631231",
     "status": "completed"
    },
    "tags": []
   },
   "outputs": [
    {
     "data": {
      "text/html": [
       "<div>\n",
       "<style scoped>\n",
       "    .dataframe tbody tr th:only-of-type {\n",
       "        vertical-align: middle;\n",
       "    }\n",
       "\n",
       "    .dataframe tbody tr th {\n",
       "        vertical-align: top;\n",
       "    }\n",
       "\n",
       "    .dataframe thead th {\n",
       "        text-align: right;\n",
       "    }\n",
       "</style>\n",
       "<table border=\"1\" class=\"dataframe\">\n",
       "  <thead>\n",
       "    <tr style=\"text-align: right;\">\n",
       "      <th></th>\n",
       "      <th>index</th>\n",
       "      <th>id</th>\n",
       "      <th>article</th>\n",
       "      <th>highlights</th>\n",
       "    </tr>\n",
       "  </thead>\n",
       "  <tbody>\n",
       "    <tr>\n",
       "      <th>0</th>\n",
       "      <td>0</td>\n",
       "      <td>0001d1afc246a7964130f43ae940af6bc6c57f01</td>\n",
       "      <td>By . Associated Press . PUBLISHED: . 14:11 EST...</td>\n",
       "      <td>Bishop John Folda, of North Dakota, is taking ...</td>\n",
       "    </tr>\n",
       "    <tr>\n",
       "      <th>1</th>\n",
       "      <td>1</td>\n",
       "      <td>0002095e55fcbd3a2f366d9bf92a95433dc305ef</td>\n",
       "      <td>(CNN) -- Ralph Mata was an internal affairs li...</td>\n",
       "      <td>Criminal complaint: Cop used his role to help ...</td>\n",
       "    </tr>\n",
       "    <tr>\n",
       "      <th>2</th>\n",
       "      <td>2</td>\n",
       "      <td>00027e965c8264c35cc1bc55556db388da82b07f</td>\n",
       "      <td>A drunk driver who killed a young woman in a h...</td>\n",
       "      <td>Craig Eccleston-Todd, 27, had drunk at least t...</td>\n",
       "    </tr>\n",
       "    <tr>\n",
       "      <th>3</th>\n",
       "      <td>3</td>\n",
       "      <td>0002c17436637c4fe1837c935c04de47adb18e9a</td>\n",
       "      <td>(CNN) -- With a breezy sweep of his pen Presid...</td>\n",
       "      <td>Nina dos Santos says Europe must be ready to a...</td>\n",
       "    </tr>\n",
       "    <tr>\n",
       "      <th>4</th>\n",
       "      <td>4</td>\n",
       "      <td>0003ad6ef0c37534f80b55b4235108024b407f0b</td>\n",
       "      <td>Fleetwood are the only team still to have a 10...</td>\n",
       "      <td>Fleetwood top of League One after 2-0 win at S...</td>\n",
       "    </tr>\n",
       "    <tr>\n",
       "      <th>...</th>\n",
       "      <td>...</td>\n",
       "      <td>...</td>\n",
       "      <td>...</td>\n",
       "      <td>...</td>\n",
       "    </tr>\n",
       "    <tr>\n",
       "      <th>284000</th>\n",
       "      <td>287108</td>\n",
       "      <td>fffdfb56fdf1a12d364562cc2b9b1d4de7481dee</td>\n",
       "      <td>By . James Rush . Former first daughter Chelse...</td>\n",
       "      <td>Chelsea Clinton said question of running for o...</td>\n",
       "    </tr>\n",
       "    <tr>\n",
       "      <th>284001</th>\n",
       "      <td>287109</td>\n",
       "      <td>fffeecb8690b85de8c3faed80adbc7a978f9ae2a</td>\n",
       "      <td>An apologetic Vanilla Ice has given his first ...</td>\n",
       "      <td>Vanilla Ice, 47 - real name Robert Van Winkle ...</td>\n",
       "    </tr>\n",
       "    <tr>\n",
       "      <th>284002</th>\n",
       "      <td>287110</td>\n",
       "      <td>ffff5231e4c71544bc6c97015cdb16c60e42b3f4</td>\n",
       "      <td>America's most lethal sniper claimed he wished...</td>\n",
       "      <td>America's most lethal sniper made comment in i...</td>\n",
       "    </tr>\n",
       "    <tr>\n",
       "      <th>284003</th>\n",
       "      <td>287111</td>\n",
       "      <td>ffff924b14a8d82058b6c1c5368ff1113c1632af</td>\n",
       "      <td>By . Sara Malm . PUBLISHED: . 12:19 EST, 8 Mar...</td>\n",
       "      <td>A swarm of more than one million has crossed b...</td>\n",
       "    </tr>\n",
       "    <tr>\n",
       "      <th>284004</th>\n",
       "      <td>287112</td>\n",
       "      <td>ffffd563a96104f5cf4493cfa701a65f31b06abf</td>\n",
       "      <td>(CNN)Former Florida Gov. Jeb Bush has decided ...</td>\n",
       "      <td>Other 2016 hopefuls maintain that Bush's annou...</td>\n",
       "    </tr>\n",
       "  </tbody>\n",
       "</table>\n",
       "<p>284005 rows × 4 columns</p>\n",
       "</div>"
      ],
      "text/plain": [
       "         index                                        id  \\\n",
       "0            0  0001d1afc246a7964130f43ae940af6bc6c57f01   \n",
       "1            1  0002095e55fcbd3a2f366d9bf92a95433dc305ef   \n",
       "2            2  00027e965c8264c35cc1bc55556db388da82b07f   \n",
       "3            3  0002c17436637c4fe1837c935c04de47adb18e9a   \n",
       "4            4  0003ad6ef0c37534f80b55b4235108024b407f0b   \n",
       "...        ...                                       ...   \n",
       "284000  287108  fffdfb56fdf1a12d364562cc2b9b1d4de7481dee   \n",
       "284001  287109  fffeecb8690b85de8c3faed80adbc7a978f9ae2a   \n",
       "284002  287110  ffff5231e4c71544bc6c97015cdb16c60e42b3f4   \n",
       "284003  287111  ffff924b14a8d82058b6c1c5368ff1113c1632af   \n",
       "284004  287112  ffffd563a96104f5cf4493cfa701a65f31b06abf   \n",
       "\n",
       "                                                  article  \\\n",
       "0       By . Associated Press . PUBLISHED: . 14:11 EST...   \n",
       "1       (CNN) -- Ralph Mata was an internal affairs li...   \n",
       "2       A drunk driver who killed a young woman in a h...   \n",
       "3       (CNN) -- With a breezy sweep of his pen Presid...   \n",
       "4       Fleetwood are the only team still to have a 10...   \n",
       "...                                                   ...   \n",
       "284000  By . James Rush . Former first daughter Chelse...   \n",
       "284001  An apologetic Vanilla Ice has given his first ...   \n",
       "284002  America's most lethal sniper claimed he wished...   \n",
       "284003  By . Sara Malm . PUBLISHED: . 12:19 EST, 8 Mar...   \n",
       "284004  (CNN)Former Florida Gov. Jeb Bush has decided ...   \n",
       "\n",
       "                                               highlights  \n",
       "0       Bishop John Folda, of North Dakota, is taking ...  \n",
       "1       Criminal complaint: Cop used his role to help ...  \n",
       "2       Craig Eccleston-Todd, 27, had drunk at least t...  \n",
       "3       Nina dos Santos says Europe must be ready to a...  \n",
       "4       Fleetwood top of League One after 2-0 win at S...  \n",
       "...                                                   ...  \n",
       "284000  Chelsea Clinton said question of running for o...  \n",
       "284001  Vanilla Ice, 47 - real name Robert Van Winkle ...  \n",
       "284002  America's most lethal sniper made comment in i...  \n",
       "284003  A swarm of more than one million has crossed b...  \n",
       "284004  Other 2016 hopefuls maintain that Bush's annou...  \n",
       "\n",
       "[284005 rows x 4 columns]"
      ]
     },
     "execution_count": 10,
     "metadata": {},
     "output_type": "execute_result"
    }
   ],
   "source": [
    "df_train"
   ]
  },
  {
   "cell_type": "markdown",
   "id": "4afc2d7d",
   "metadata": {
    "editable": false,
    "papermill": {
     "duration": 0.019507,
     "end_time": "2024-09-29T17:53:38.706083",
     "exception": false,
     "start_time": "2024-09-29T17:53:38.686576",
     "status": "completed"
    },
    "tags": []
   },
   "source": [
    "**Using this function for cleaning our data**"
   ]
  },
  {
   "cell_type": "code",
   "execution_count": 11,
   "id": "8cad0fa7",
   "metadata": {
    "editable": false,
    "execution": {
     "iopub.execute_input": "2024-09-29T17:53:38.746610Z",
     "iopub.status.busy": "2024-09-29T17:53:38.746332Z",
     "iopub.status.idle": "2024-09-29T17:53:38.755060Z",
     "shell.execute_reply": "2024-09-29T17:53:38.754226Z"
    },
    "papermill": {
     "duration": 0.031291,
     "end_time": "2024-09-29T17:53:38.757023",
     "exception": false,
     "start_time": "2024-09-29T17:53:38.725732",
     "status": "completed"
    },
    "tags": []
   },
   "outputs": [],
   "source": [
    "def clean_text(text):\n",
    "    # Remove links\n",
    "    text = re.sub(r'http\\S+', '', text)\n",
    "    \n",
    "    # Remove all the special characters\n",
    "    text = re.sub(r'\\W', ' ', str(text))\n",
    "\n",
    "    # remove all single characters\n",
    "    text = re.sub(r'\\s+[a-zA-Z]\\s+', ' ', text)\n",
    "\n",
    "    # Remove single characters from the start\n",
    "    text = re.sub(r'\\^[a-zA-Z]\\s+', ' ', text) \n",
    "    \n",
    "    # Modify the form of some words\n",
    "    replace_list = {r\"'m\": ' am',\n",
    "                    r\"'re\": ' are',\n",
    "                    r\"let’s\": 'let us',\n",
    "                    r\"'s\":  ' is',\n",
    "                    r\"'ve\": ' have',\n",
    "                    r\"can't\": 'can not',\n",
    "                    r\"cannot\": 'can not',\n",
    "                    r\"shan’t\": 'shall not',\n",
    "                    r\"n't\": ' not',\n",
    "                    r\"'d\": ' would',\n",
    "                    r\"'ll\": ' will',\n",
    "                    r\"'scuse\": 'excuse',\n",
    "                    ',': ' ,',\n",
    "                    '.': ' .',\n",
    "                    '!': ' !',\n",
    "                    '?': ' ?',\n",
    "                    '\\s+': ' '}\n",
    "    text = text.lower()\n",
    "    for s in replace_list:\n",
    "        text = text.replace(s, replace_list[s])\n",
    "    text = ' '.join(text.split())\n",
    "    \n",
    "    # Tokenizer, Lemmatization and removing stop_words\n",
    "    text = word_tokenize(text)\n",
    "    text = [lemmatizer.lemmatize(word, pos='v') for word in text if word not in stop_words and word not in punctuation]\n",
    "\n",
    "    text = ' '.join(text)\n",
    "        \n",
    "    return text"
   ]
  },
  {
   "cell_type": "code",
   "execution_count": 12,
   "id": "e545c9e1",
   "metadata": {
    "editable": false,
    "execution": {
     "iopub.execute_input": "2024-09-29T17:53:38.798768Z",
     "iopub.status.busy": "2024-09-29T17:53:38.798083Z",
     "iopub.status.idle": "2024-09-29T17:53:40.133034Z",
     "shell.execute_reply": "2024-09-29T17:53:40.131890Z"
    },
    "papermill": {
     "duration": 1.358114,
     "end_time": "2024-09-29T17:53:40.135426",
     "exception": false,
     "start_time": "2024-09-29T17:53:38.777312",
     "status": "completed"
    },
    "tags": []
   },
   "outputs": [
    {
     "name": "stdout",
     "output_type": "stream",
     "text": [
      "Archive:  /usr/share/nltk_data/corpora/wordnet.zip\r\n",
      "   creating: /usr/share/nltk_data/corpora/wordnet/\r\n",
      "  inflating: /usr/share/nltk_data/corpora/wordnet/lexnames  \r\n",
      "  inflating: /usr/share/nltk_data/corpora/wordnet/data.verb  \r\n",
      "  inflating: /usr/share/nltk_data/corpora/wordnet/index.adv  \r\n",
      "  inflating: /usr/share/nltk_data/corpora/wordnet/adv.exc  \r\n",
      "  inflating: /usr/share/nltk_data/corpora/wordnet/index.verb  \r\n",
      "  inflating: /usr/share/nltk_data/corpora/wordnet/cntlist.rev  \r\n",
      "  inflating: /usr/share/nltk_data/corpora/wordnet/data.adj  \r\n",
      "  inflating: /usr/share/nltk_data/corpora/wordnet/index.adj  \r\n",
      "  inflating: /usr/share/nltk_data/corpora/wordnet/LICENSE  \r\n",
      "  inflating: /usr/share/nltk_data/corpora/wordnet/citation.bib  \r\n",
      "  inflating: /usr/share/nltk_data/corpora/wordnet/noun.exc  \r\n",
      "  inflating: /usr/share/nltk_data/corpora/wordnet/verb.exc  \r\n",
      "  inflating: /usr/share/nltk_data/corpora/wordnet/README  \r\n",
      "  inflating: /usr/share/nltk_data/corpora/wordnet/index.sense  \r\n",
      "  inflating: /usr/share/nltk_data/corpora/wordnet/data.noun  \r\n",
      "  inflating: /usr/share/nltk_data/corpora/wordnet/data.adv  \r\n",
      "  inflating: /usr/share/nltk_data/corpora/wordnet/index.noun  \r\n",
      "  inflating: /usr/share/nltk_data/corpora/wordnet/adj.exc  \r\n"
     ]
    }
   ],
   "source": [
    "!unzip /usr/share/nltk_data/corpora/wordnet.zip -d /usr/share/nltk_data/corpora/"
   ]
  },
  {
   "cell_type": "code",
   "execution_count": 13,
   "id": "6645cf64",
   "metadata": {
    "editable": false,
    "execution": {
     "iopub.execute_input": "2024-09-29T17:53:40.178137Z",
     "iopub.status.busy": "2024-09-29T17:53:40.177104Z",
     "iopub.status.idle": "2024-09-29T18:35:49.799121Z",
     "shell.execute_reply": "2024-09-29T18:35:49.798133Z"
    },
    "papermill": {
     "duration": 2529.646299,
     "end_time": "2024-09-29T18:35:49.802126",
     "exception": false,
     "start_time": "2024-09-29T17:53:40.155827",
     "status": "completed"
    },
    "tags": []
   },
   "outputs": [],
   "source": [
    "articles = df_train['article'].apply(lambda p: clean_text(p))\n",
    "summerized = df_train['highlights'].apply(lambda p: clean_text(p))\n",
    "\n",
    "articles = np.array(articles)\n",
    "summerized = np.array(summerized)"
   ]
  },
  {
   "cell_type": "code",
   "execution_count": 14,
   "id": "33339108",
   "metadata": {
    "editable": false,
    "execution": {
     "iopub.execute_input": "2024-09-29T18:35:49.845956Z",
     "iopub.status.busy": "2024-09-29T18:35:49.845646Z",
     "iopub.status.idle": "2024-09-29T18:35:50.016759Z",
     "shell.execute_reply": "2024-09-29T18:35:50.015759Z"
    },
    "papermill": {
     "duration": 0.194382,
     "end_time": "2024-09-29T18:35:50.018792",
     "exception": false,
     "start_time": "2024-09-29T18:35:49.824410",
     "status": "completed"
    },
    "tags": []
   },
   "outputs": [
    {
     "data": {
      "text/html": [
       "<div>\n",
       "<style scoped>\n",
       "    .dataframe tbody tr th:only-of-type {\n",
       "        vertical-align: middle;\n",
       "    }\n",
       "\n",
       "    .dataframe tbody tr th {\n",
       "        vertical-align: top;\n",
       "    }\n",
       "\n",
       "    .dataframe thead th {\n",
       "        text-align: right;\n",
       "    }\n",
       "</style>\n",
       "<table border=\"1\" class=\"dataframe\">\n",
       "  <thead>\n",
       "    <tr style=\"text-align: right;\">\n",
       "      <th></th>\n",
       "      <th>Text</th>\n",
       "      <th>Summarization</th>\n",
       "    </tr>\n",
       "  </thead>\n",
       "  <tbody>\n",
       "    <tr>\n",
       "      <th>0</th>\n",
       "      <td>associate press publish 14 11 est 25 october 2...</td>\n",
       "      <td>bishop john folda north dakota take time diagn...</td>\n",
       "    </tr>\n",
       "    <tr>\n",
       "      <th>1</th>\n",
       "      <td>cnn ralph mata internal affairs lieutenant mia...</td>\n",
       "      <td>criminal complaint cop use role help cocaine t...</td>\n",
       "    </tr>\n",
       "    <tr>\n",
       "      <th>2</th>\n",
       "      <td>drink driver kill young woman head crash check...</td>\n",
       "      <td>craig eccleston todd 27 drink least three pint...</td>\n",
       "    </tr>\n",
       "    <tr>\n",
       "      <th>3</th>\n",
       "      <td>cnn breezy sweep pen president vladimir putin ...</td>\n",
       "      <td>nina do santos say europe must ready accept sa...</td>\n",
       "    </tr>\n",
       "    <tr>\n",
       "      <th>4</th>\n",
       "      <td>fleetwood team still 100 record sky bet league...</td>\n",
       "      <td>fleetwood top league one 2 0 win scunthorpe pe...</td>\n",
       "    </tr>\n",
       "  </tbody>\n",
       "</table>\n",
       "</div>"
      ],
      "text/plain": [
       "                                                Text  \\\n",
       "0  associate press publish 14 11 est 25 october 2...   \n",
       "1  cnn ralph mata internal affairs lieutenant mia...   \n",
       "2  drink driver kill young woman head crash check...   \n",
       "3  cnn breezy sweep pen president vladimir putin ...   \n",
       "4  fleetwood team still 100 record sky bet league...   \n",
       "\n",
       "                                       Summarization  \n",
       "0  bishop john folda north dakota take time diagn...  \n",
       "1  criminal complaint cop use role help cocaine t...  \n",
       "2  craig eccleston todd 27 drink least three pint...  \n",
       "3  nina do santos say europe must ready accept sa...  \n",
       "4  fleetwood top league one 2 0 win scunthorpe pe...  "
      ]
     },
     "execution_count": 14,
     "metadata": {},
     "output_type": "execute_result"
    }
   ],
   "source": [
    "zip_data =  list(zip(articles, summerized))\n",
    "lines = pd.DataFrame(zip_data, columns = ['Text' , 'Summarization']) \n",
    "lines.head()"
   ]
  },
  {
   "cell_type": "code",
   "execution_count": 15,
   "id": "99ba981a",
   "metadata": {
    "editable": false,
    "execution": {
     "iopub.execute_input": "2024-09-29T18:35:50.061278Z",
     "iopub.status.busy": "2024-09-29T18:35:50.060978Z",
     "iopub.status.idle": "2024-09-29T18:35:50.249150Z",
     "shell.execute_reply": "2024-09-29T18:35:50.248015Z"
    },
    "papermill": {
     "duration": 0.211964,
     "end_time": "2024-09-29T18:35:50.251624",
     "exception": false,
     "start_time": "2024-09-29T18:35:50.039660",
     "status": "completed"
    },
    "tags": []
   },
   "outputs": [],
   "source": [
    "lines['Summarization'] = lines['Summarization'].apply(lambda x : '<sos> '+ x + ' <eos>')"
   ]
  },
  {
   "cell_type": "code",
   "execution_count": 16,
   "id": "f9a37172",
   "metadata": {
    "editable": false,
    "execution": {
     "iopub.execute_input": "2024-09-29T18:35:50.295315Z",
     "iopub.status.busy": "2024-09-29T18:35:50.294995Z",
     "iopub.status.idle": "2024-09-29T18:35:50.305200Z",
     "shell.execute_reply": "2024-09-29T18:35:50.304374Z"
    },
    "papermill": {
     "duration": 0.034203,
     "end_time": "2024-09-29T18:35:50.307260",
     "exception": false,
     "start_time": "2024-09-29T18:35:50.273057",
     "status": "completed"
    },
    "tags": []
   },
   "outputs": [
    {
     "data": {
      "text/html": [
       "<div>\n",
       "<style scoped>\n",
       "    .dataframe tbody tr th:only-of-type {\n",
       "        vertical-align: middle;\n",
       "    }\n",
       "\n",
       "    .dataframe tbody tr th {\n",
       "        vertical-align: top;\n",
       "    }\n",
       "\n",
       "    .dataframe thead th {\n",
       "        text-align: right;\n",
       "    }\n",
       "</style>\n",
       "<table border=\"1\" class=\"dataframe\">\n",
       "  <thead>\n",
       "    <tr style=\"text-align: right;\">\n",
       "      <th></th>\n",
       "      <th>Text</th>\n",
       "      <th>Summarization</th>\n",
       "    </tr>\n",
       "  </thead>\n",
       "  <tbody>\n",
       "    <tr>\n",
       "      <th>0</th>\n",
       "      <td>associate press publish 14 11 est 25 october 2...</td>\n",
       "      <td>&lt;sos&gt; bishop john folda north dakota take time...</td>\n",
       "    </tr>\n",
       "    <tr>\n",
       "      <th>1</th>\n",
       "      <td>cnn ralph mata internal affairs lieutenant mia...</td>\n",
       "      <td>&lt;sos&gt; criminal complaint cop use role help coc...</td>\n",
       "    </tr>\n",
       "    <tr>\n",
       "      <th>2</th>\n",
       "      <td>drink driver kill young woman head crash check...</td>\n",
       "      <td>&lt;sos&gt; craig eccleston todd 27 drink least thre...</td>\n",
       "    </tr>\n",
       "    <tr>\n",
       "      <th>3</th>\n",
       "      <td>cnn breezy sweep pen president vladimir putin ...</td>\n",
       "      <td>&lt;sos&gt; nina do santos say europe must ready acc...</td>\n",
       "    </tr>\n",
       "    <tr>\n",
       "      <th>4</th>\n",
       "      <td>fleetwood team still 100 record sky bet league...</td>\n",
       "      <td>&lt;sos&gt; fleetwood top league one 2 0 win scuntho...</td>\n",
       "    </tr>\n",
       "  </tbody>\n",
       "</table>\n",
       "</div>"
      ],
      "text/plain": [
       "                                                Text  \\\n",
       "0  associate press publish 14 11 est 25 october 2...   \n",
       "1  cnn ralph mata internal affairs lieutenant mia...   \n",
       "2  drink driver kill young woman head crash check...   \n",
       "3  cnn breezy sweep pen president vladimir putin ...   \n",
       "4  fleetwood team still 100 record sky bet league...   \n",
       "\n",
       "                                       Summarization  \n",
       "0  <sos> bishop john folda north dakota take time...  \n",
       "1  <sos> criminal complaint cop use role help coc...  \n",
       "2  <sos> craig eccleston todd 27 drink least thre...  \n",
       "3  <sos> nina do santos say europe must ready acc...  \n",
       "4  <sos> fleetwood top league one 2 0 win scuntho...  "
      ]
     },
     "execution_count": 16,
     "metadata": {},
     "output_type": "execute_result"
    }
   ],
   "source": [
    "lines.head()"
   ]
  },
  {
   "cell_type": "markdown",
   "id": "4a56d564",
   "metadata": {
    "editable": false,
    "papermill": {
     "duration": 0.020476,
     "end_time": "2024-09-29T18:35:50.348238",
     "exception": false,
     "start_time": "2024-09-29T18:35:50.327762",
     "status": "completed"
    },
    "tags": []
   },
   "source": [
    "**Validation data**"
   ]
  },
  {
   "cell_type": "code",
   "execution_count": 17,
   "id": "6b76327f",
   "metadata": {
    "editable": false,
    "execution": {
     "iopub.execute_input": "2024-09-29T18:35:50.390494Z",
     "iopub.status.busy": "2024-09-29T18:35:50.390185Z",
     "iopub.status.idle": "2024-09-29T18:37:47.473794Z",
     "shell.execute_reply": "2024-09-29T18:37:47.472978Z"
    },
    "papermill": {
     "duration": 117.107331,
     "end_time": "2024-09-29T18:37:47.476181",
     "exception": false,
     "start_time": "2024-09-29T18:35:50.368850",
     "status": "completed"
    },
    "tags": []
   },
   "outputs": [],
   "source": [
    "articles_valid = df_valid['article'].apply(lambda p: clean_text(p))\n",
    "summerized_valid = df_valid['highlights'].apply(lambda p: clean_text(p))\n",
    "\n",
    "articles_valid = np.array(articles_valid)\n",
    "summerized_valid = np.array(summerized_valid)"
   ]
  },
  {
   "cell_type": "code",
   "execution_count": 18,
   "id": "5fde434b",
   "metadata": {
    "editable": false,
    "execution": {
     "iopub.execute_input": "2024-09-29T18:37:47.519750Z",
     "iopub.status.busy": "2024-09-29T18:37:47.519450Z",
     "iopub.status.idle": "2024-09-29T18:37:47.535682Z",
     "shell.execute_reply": "2024-09-29T18:37:47.534718Z"
    },
    "papermill": {
     "duration": 0.040046,
     "end_time": "2024-09-29T18:37:47.537800",
     "exception": false,
     "start_time": "2024-09-29T18:37:47.497754",
     "status": "completed"
    },
    "tags": []
   },
   "outputs": [
    {
     "data": {
      "text/html": [
       "<div>\n",
       "<style scoped>\n",
       "    .dataframe tbody tr th:only-of-type {\n",
       "        vertical-align: middle;\n",
       "    }\n",
       "\n",
       "    .dataframe tbody tr th {\n",
       "        vertical-align: top;\n",
       "    }\n",
       "\n",
       "    .dataframe thead th {\n",
       "        text-align: right;\n",
       "    }\n",
       "</style>\n",
       "<table border=\"1\" class=\"dataframe\">\n",
       "  <thead>\n",
       "    <tr style=\"text-align: right;\">\n",
       "      <th></th>\n",
       "      <th>Text</th>\n",
       "      <th>Summarization</th>\n",
       "    </tr>\n",
       "  </thead>\n",
       "  <tbody>\n",
       "    <tr>\n",
       "      <th>0</th>\n",
       "      <td>sally forrest actress dancer grace silver scre...</td>\n",
       "      <td>sally forrest actress dancer grace silver scre...</td>\n",
       "    </tr>\n",
       "    <tr>\n",
       "      <th>1</th>\n",
       "      <td>middle school teacher china ink hundreds sketc...</td>\n",
       "      <td>work include picture presidential palace yangt...</td>\n",
       "    </tr>\n",
       "    <tr>\n",
       "      <th>2</th>\n",
       "      <td>man convict kill father sister former girlfrie...</td>\n",
       "      <td>iftekhar murtaza 29 convict year ago kill ex g...</td>\n",
       "    </tr>\n",
       "    <tr>\n",
       "      <th>3</th>\n",
       "      <td>avid rugby fan prince harry could barely watch...</td>\n",
       "      <td>prince harry attendance england crunch match f...</td>\n",
       "    </tr>\n",
       "    <tr>\n",
       "      <th>4</th>\n",
       "      <td>triple radio producer inundate message prospec...</td>\n",
       "      <td>nick slater colleagues upload picture facebook...</td>\n",
       "    </tr>\n",
       "  </tbody>\n",
       "</table>\n",
       "</div>"
      ],
      "text/plain": [
       "                                                Text  \\\n",
       "0  sally forrest actress dancer grace silver scre...   \n",
       "1  middle school teacher china ink hundreds sketc...   \n",
       "2  man convict kill father sister former girlfrie...   \n",
       "3  avid rugby fan prince harry could barely watch...   \n",
       "4  triple radio producer inundate message prospec...   \n",
       "\n",
       "                                       Summarization  \n",
       "0  sally forrest actress dancer grace silver scre...  \n",
       "1  work include picture presidential palace yangt...  \n",
       "2  iftekhar murtaza 29 convict year ago kill ex g...  \n",
       "3  prince harry attendance england crunch match f...  \n",
       "4  nick slater colleagues upload picture facebook...  "
      ]
     },
     "execution_count": 18,
     "metadata": {},
     "output_type": "execute_result"
    }
   ],
   "source": [
    "zip_data_valid =  list(zip(articles_valid, summerized_valid))\n",
    "lines_valid = pd.DataFrame(zip_data_valid, columns = ['Text', 'Summarization'])\n",
    "lines_valid.head()"
   ]
  },
  {
   "cell_type": "code",
   "execution_count": 19,
   "id": "55015b8f",
   "metadata": {
    "editable": false,
    "execution": {
     "iopub.execute_input": "2024-09-29T18:37:47.581714Z",
     "iopub.status.busy": "2024-09-29T18:37:47.581440Z",
     "iopub.status.idle": "2024-09-29T18:37:47.594478Z",
     "shell.execute_reply": "2024-09-29T18:37:47.593678Z"
    },
    "papermill": {
     "duration": 0.036701,
     "end_time": "2024-09-29T18:37:47.596378",
     "exception": false,
     "start_time": "2024-09-29T18:37:47.559677",
     "status": "completed"
    },
    "tags": []
   },
   "outputs": [],
   "source": [
    "lines_valid['Summarization'] = lines_valid['Summarization'].apply(lambda x : '<sos> '+ x + ' <eos>')"
   ]
  },
  {
   "cell_type": "code",
   "execution_count": 20,
   "id": "47720efa",
   "metadata": {
    "editable": false,
    "execution": {
     "iopub.execute_input": "2024-09-29T18:37:47.638828Z",
     "iopub.status.busy": "2024-09-29T18:37:47.638557Z",
     "iopub.status.idle": "2024-09-29T18:37:47.646806Z",
     "shell.execute_reply": "2024-09-29T18:37:47.645978Z"
    },
    "papermill": {
     "duration": 0.031707,
     "end_time": "2024-09-29T18:37:47.648883",
     "exception": false,
     "start_time": "2024-09-29T18:37:47.617176",
     "status": "completed"
    },
    "tags": []
   },
   "outputs": [
    {
     "data": {
      "text/html": [
       "<div>\n",
       "<style scoped>\n",
       "    .dataframe tbody tr th:only-of-type {\n",
       "        vertical-align: middle;\n",
       "    }\n",
       "\n",
       "    .dataframe tbody tr th {\n",
       "        vertical-align: top;\n",
       "    }\n",
       "\n",
       "    .dataframe thead th {\n",
       "        text-align: right;\n",
       "    }\n",
       "</style>\n",
       "<table border=\"1\" class=\"dataframe\">\n",
       "  <thead>\n",
       "    <tr style=\"text-align: right;\">\n",
       "      <th></th>\n",
       "      <th>Text</th>\n",
       "      <th>Summarization</th>\n",
       "    </tr>\n",
       "  </thead>\n",
       "  <tbody>\n",
       "    <tr>\n",
       "      <th>0</th>\n",
       "      <td>sally forrest actress dancer grace silver scre...</td>\n",
       "      <td>&lt;sos&gt; sally forrest actress dancer grace silve...</td>\n",
       "    </tr>\n",
       "    <tr>\n",
       "      <th>1</th>\n",
       "      <td>middle school teacher china ink hundreds sketc...</td>\n",
       "      <td>&lt;sos&gt; work include picture presidential palace...</td>\n",
       "    </tr>\n",
       "    <tr>\n",
       "      <th>2</th>\n",
       "      <td>man convict kill father sister former girlfrie...</td>\n",
       "      <td>&lt;sos&gt; iftekhar murtaza 29 convict year ago kil...</td>\n",
       "    </tr>\n",
       "    <tr>\n",
       "      <th>3</th>\n",
       "      <td>avid rugby fan prince harry could barely watch...</td>\n",
       "      <td>&lt;sos&gt; prince harry attendance england crunch m...</td>\n",
       "    </tr>\n",
       "    <tr>\n",
       "      <th>4</th>\n",
       "      <td>triple radio producer inundate message prospec...</td>\n",
       "      <td>&lt;sos&gt; nick slater colleagues upload picture fa...</td>\n",
       "    </tr>\n",
       "  </tbody>\n",
       "</table>\n",
       "</div>"
      ],
      "text/plain": [
       "                                                Text  \\\n",
       "0  sally forrest actress dancer grace silver scre...   \n",
       "1  middle school teacher china ink hundreds sketc...   \n",
       "2  man convict kill father sister former girlfrie...   \n",
       "3  avid rugby fan prince harry could barely watch...   \n",
       "4  triple radio producer inundate message prospec...   \n",
       "\n",
       "                                       Summarization  \n",
       "0  <sos> sally forrest actress dancer grace silve...  \n",
       "1  <sos> work include picture presidential palace...  \n",
       "2  <sos> iftekhar murtaza 29 convict year ago kil...  \n",
       "3  <sos> prince harry attendance england crunch m...  \n",
       "4  <sos> nick slater colleagues upload picture fa...  "
      ]
     },
     "execution_count": 20,
     "metadata": {},
     "output_type": "execute_result"
    }
   ],
   "source": [
    "lines_valid.head()"
   ]
  },
  {
   "cell_type": "markdown",
   "id": "e9b99066",
   "metadata": {
    "editable": false,
    "papermill": {
     "duration": 0.020675,
     "end_time": "2024-09-29T18:37:47.690797",
     "exception": false,
     "start_time": "2024-09-29T18:37:47.670122",
     "status": "completed"
    },
    "tags": []
   },
   "source": [
    "**Test data**"
   ]
  },
  {
   "cell_type": "code",
   "execution_count": 21,
   "id": "9bcb790b",
   "metadata": {
    "editable": false,
    "execution": {
     "iopub.execute_input": "2024-09-29T18:37:47.734033Z",
     "iopub.status.busy": "2024-09-29T18:37:47.733263Z",
     "iopub.status.idle": "2024-09-29T18:37:47.759422Z",
     "shell.execute_reply": "2024-09-29T18:37:47.758773Z"
    },
    "papermill": {
     "duration": 0.049894,
     "end_time": "2024-09-29T18:37:47.761543",
     "exception": false,
     "start_time": "2024-09-29T18:37:47.711649",
     "status": "completed"
    },
    "tags": []
   },
   "outputs": [],
   "source": [
    "df_test = df_test.sample(frac=0.2).reset_index(drop=True)"
   ]
  },
  {
   "cell_type": "code",
   "execution_count": 22,
   "id": "8cac5786",
   "metadata": {
    "editable": false,
    "execution": {
     "iopub.execute_input": "2024-09-29T18:37:47.804617Z",
     "iopub.status.busy": "2024-09-29T18:37:47.804318Z",
     "iopub.status.idle": "2024-09-29T18:38:08.087567Z",
     "shell.execute_reply": "2024-09-29T18:38:08.086670Z"
    },
    "papermill": {
     "duration": 20.307307,
     "end_time": "2024-09-29T18:38:08.089871",
     "exception": false,
     "start_time": "2024-09-29T18:37:47.782564",
     "status": "completed"
    },
    "tags": []
   },
   "outputs": [],
   "source": [
    "articles_test = df_test['article'].apply(lambda p: clean_text(p))\n",
    "summerized_test = df_test['highlights'].apply(lambda p: clean_text(p))\n",
    "\n",
    "articles_test = np.array(articles_test)\n",
    "summerized_test = np.array(summerized_test)"
   ]
  },
  {
   "cell_type": "code",
   "execution_count": 23,
   "id": "86305fc1",
   "metadata": {
    "editable": false,
    "execution": {
     "iopub.execute_input": "2024-09-29T18:38:08.137718Z",
     "iopub.status.busy": "2024-09-29T18:38:08.137287Z",
     "iopub.status.idle": "2024-09-29T18:38:08.152605Z",
     "shell.execute_reply": "2024-09-29T18:38:08.150671Z"
    },
    "papermill": {
     "duration": 0.046911,
     "end_time": "2024-09-29T18:38:08.158390",
     "exception": false,
     "start_time": "2024-09-29T18:38:08.111479",
     "status": "completed"
    },
    "tags": []
   },
   "outputs": [
    {
     "data": {
      "text/html": [
       "<div>\n",
       "<style scoped>\n",
       "    .dataframe tbody tr th:only-of-type {\n",
       "        vertical-align: middle;\n",
       "    }\n",
       "\n",
       "    .dataframe tbody tr th {\n",
       "        vertical-align: top;\n",
       "    }\n",
       "\n",
       "    .dataframe thead th {\n",
       "        text-align: right;\n",
       "    }\n",
       "</style>\n",
       "<table border=\"1\" class=\"dataframe\">\n",
       "  <thead>\n",
       "    <tr style=\"text-align: right;\">\n",
       "      <th></th>\n",
       "      <th>Text</th>\n",
       "      <th>Summarization</th>\n",
       "    </tr>\n",
       "  </thead>\n",
       "  <tbody>\n",
       "    <tr>\n",
       "      <th>0</th>\n",
       "      <td>stun researchers find one uk important manuscr...</td>\n",
       "      <td>black book carmarthen earliest survive welsh m...</td>\n",
       "    </tr>\n",
       "    <tr>\n",
       "      <th>1</th>\n",
       "      <td>state education minister adrian piccoli call s...</td>\n",
       "      <td>pilot program allow students one sydney presti...</td>\n",
       "    </tr>\n",
       "    <tr>\n",
       "      <th>2</th>\n",
       "      <td>cnn 22 months ago body odin lloyd find industr...</td>\n",
       "      <td>jury find ex new england patriots star guilty ...</td>\n",
       "    </tr>\n",
       "    <tr>\n",
       "      <th>3</th>\n",
       "      <td>cnn pardon us lose fan april 8 day yes know si...</td>\n",
       "      <td>april 8 huge lose empire record fan april 14 a...</td>\n",
       "    </tr>\n",
       "    <tr>\n",
       "      <th>4</th>\n",
       "      <td>incredible shots american southwest photograph...</td>\n",
       "      <td>kevin russ hop train dumpster dive leftovers s...</td>\n",
       "    </tr>\n",
       "  </tbody>\n",
       "</table>\n",
       "</div>"
      ],
      "text/plain": [
       "                                                Text  \\\n",
       "0  stun researchers find one uk important manuscr...   \n",
       "1  state education minister adrian piccoli call s...   \n",
       "2  cnn 22 months ago body odin lloyd find industr...   \n",
       "3  cnn pardon us lose fan april 8 day yes know si...   \n",
       "4  incredible shots american southwest photograph...   \n",
       "\n",
       "                                       Summarization  \n",
       "0  black book carmarthen earliest survive welsh m...  \n",
       "1  pilot program allow students one sydney presti...  \n",
       "2  jury find ex new england patriots star guilty ...  \n",
       "3  april 8 huge lose empire record fan april 14 a...  \n",
       "4  kevin russ hop train dumpster dive leftovers s...  "
      ]
     },
     "execution_count": 23,
     "metadata": {},
     "output_type": "execute_result"
    }
   ],
   "source": [
    "zip_data_test =  list(zip(articles_test, summerized_test))\n",
    "lines_test = pd.DataFrame(zip_data_test, columns = ['Text', 'Summarization']) \n",
    "lines_test.head()"
   ]
  },
  {
   "cell_type": "code",
   "execution_count": 24,
   "id": "3e8300bd",
   "metadata": {
    "editable": false,
    "execution": {
     "iopub.execute_input": "2024-09-29T18:38:08.209765Z",
     "iopub.status.busy": "2024-09-29T18:38:08.209436Z",
     "iopub.status.idle": "2024-09-29T18:38:08.216547Z",
     "shell.execute_reply": "2024-09-29T18:38:08.215646Z"
    },
    "papermill": {
     "duration": 0.031994,
     "end_time": "2024-09-29T18:38:08.218605",
     "exception": false,
     "start_time": "2024-09-29T18:38:08.186611",
     "status": "completed"
    },
    "tags": []
   },
   "outputs": [],
   "source": [
    "lines_test['Summarization'] = lines_test['Summarization'].apply(lambda x : '<sos> '+ x + ' <eos>')"
   ]
  },
  {
   "cell_type": "code",
   "execution_count": 25,
   "id": "d780fe5d",
   "metadata": {
    "editable": false,
    "execution": {
     "iopub.execute_input": "2024-09-29T18:38:08.263155Z",
     "iopub.status.busy": "2024-09-29T18:38:08.262287Z",
     "iopub.status.idle": "2024-09-29T18:38:08.272391Z",
     "shell.execute_reply": "2024-09-29T18:38:08.271339Z"
    },
    "papermill": {
     "duration": 0.034678,
     "end_time": "2024-09-29T18:38:08.274453",
     "exception": false,
     "start_time": "2024-09-29T18:38:08.239775",
     "status": "completed"
    },
    "tags": []
   },
   "outputs": [
    {
     "data": {
      "text/html": [
       "<div>\n",
       "<style scoped>\n",
       "    .dataframe tbody tr th:only-of-type {\n",
       "        vertical-align: middle;\n",
       "    }\n",
       "\n",
       "    .dataframe tbody tr th {\n",
       "        vertical-align: top;\n",
       "    }\n",
       "\n",
       "    .dataframe thead th {\n",
       "        text-align: right;\n",
       "    }\n",
       "</style>\n",
       "<table border=\"1\" class=\"dataframe\">\n",
       "  <thead>\n",
       "    <tr style=\"text-align: right;\">\n",
       "      <th></th>\n",
       "      <th>Text</th>\n",
       "      <th>Summarization</th>\n",
       "    </tr>\n",
       "  </thead>\n",
       "  <tbody>\n",
       "    <tr>\n",
       "      <th>0</th>\n",
       "      <td>stun researchers find one uk important manuscr...</td>\n",
       "      <td>&lt;sos&gt; black book carmarthen earliest survive w...</td>\n",
       "    </tr>\n",
       "    <tr>\n",
       "      <th>1</th>\n",
       "      <td>state education minister adrian piccoli call s...</td>\n",
       "      <td>&lt;sos&gt; pilot program allow students one sydney ...</td>\n",
       "    </tr>\n",
       "    <tr>\n",
       "      <th>2</th>\n",
       "      <td>cnn 22 months ago body odin lloyd find industr...</td>\n",
       "      <td>&lt;sos&gt; jury find ex new england patriots star g...</td>\n",
       "    </tr>\n",
       "    <tr>\n",
       "      <th>3</th>\n",
       "      <td>cnn pardon us lose fan april 8 day yes know si...</td>\n",
       "      <td>&lt;sos&gt; april 8 huge lose empire record fan apri...</td>\n",
       "    </tr>\n",
       "    <tr>\n",
       "      <th>4</th>\n",
       "      <td>incredible shots american southwest photograph...</td>\n",
       "      <td>&lt;sos&gt; kevin russ hop train dumpster dive lefto...</td>\n",
       "    </tr>\n",
       "  </tbody>\n",
       "</table>\n",
       "</div>"
      ],
      "text/plain": [
       "                                                Text  \\\n",
       "0  stun researchers find one uk important manuscr...   \n",
       "1  state education minister adrian piccoli call s...   \n",
       "2  cnn 22 months ago body odin lloyd find industr...   \n",
       "3  cnn pardon us lose fan april 8 day yes know si...   \n",
       "4  incredible shots american southwest photograph...   \n",
       "\n",
       "                                       Summarization  \n",
       "0  <sos> black book carmarthen earliest survive w...  \n",
       "1  <sos> pilot program allow students one sydney ...  \n",
       "2  <sos> jury find ex new england patriots star g...  \n",
       "3  <sos> april 8 huge lose empire record fan apri...  \n",
       "4  <sos> kevin russ hop train dumpster dive lefto...  "
      ]
     },
     "execution_count": 25,
     "metadata": {},
     "output_type": "execute_result"
    }
   ],
   "source": [
    "lines_test.head()"
   ]
  },
  {
   "cell_type": "code",
   "execution_count": 26,
   "id": "6c52e339",
   "metadata": {
    "editable": false,
    "execution": {
     "iopub.execute_input": "2024-09-29T18:38:08.318849Z",
     "iopub.status.busy": "2024-09-29T18:38:08.318596Z",
     "iopub.status.idle": "2024-09-29T18:38:16.640546Z",
     "shell.execute_reply": "2024-09-29T18:38:16.639657Z"
    },
    "papermill": {
     "duration": 8.346583,
     "end_time": "2024-09-29T18:38:16.642817",
     "exception": false,
     "start_time": "2024-09-29T18:38:08.296234",
     "status": "completed"
    },
    "tags": []
   },
   "outputs": [
    {
     "data": {
      "image/png": "[encoded data removed]",
      "text/plain": [
       "<Figure size 640x480 with 2 Axes>"
      ]
     },
     "metadata": {},
     "output_type": "display_data"
    }
   ],
   "source": [
    "text_word_count = []\n",
    "summary_word_count = []\n",
    "\n",
    "# populate the lists with sentence lengths\n",
    "#for i in lines['Text']:\n",
    "#      text_word_count.append(len(i.split()))\n",
    "text_word_count = [len(i.split()) for i in lines['Text']]\n",
    "\n",
    "#for i in lines['Summarization']:\n",
    "#      summary_word_count.append(len(i.split()))\n",
    "summary_word_count = [len(i.split()) for i in lines['Summarization']]\n",
    "\n",
    "length_df = pd.DataFrame({'text':text_word_count, 'summary':summary_word_count})\n",
    "length_df.hist(bins = 30)\n",
    "plt.show()"
   ]
  },
  {
   "cell_type": "markdown",
   "id": "aeeea758",
   "metadata": {
    "editable": false,
    "papermill": {
     "duration": 0.02179,
     "end_time": "2024-09-29T18:38:16.686626",
     "exception": false,
     "start_time": "2024-09-29T18:38:16.664836",
     "status": "completed"
    },
    "tags": []
   },
   "source": [
    "**Check the best maximum length of text**"
   ]
  },
  {
   "cell_type": "code",
   "execution_count": 27,
   "id": "7d1d9465",
   "metadata": {
    "editable": false,
    "execution": {
     "iopub.execute_input": "2024-09-29T18:38:16.731672Z",
     "iopub.status.busy": "2024-09-29T18:38:16.731083Z",
     "iopub.status.idle": "2024-09-29T18:38:24.448454Z",
     "shell.execute_reply": "2024-09-29T18:38:24.447540Z"
    },
    "papermill": {
     "duration": 7.742287,
     "end_time": "2024-09-29T18:38:24.450612",
     "exception": false,
     "start_time": "2024-09-29T18:38:16.708325",
     "status": "completed"
    },
    "tags": []
   },
   "outputs": [
    {
     "name": "stdout",
     "output_type": "stream",
     "text": [
      "0.9599549303709441 0.9504656608158307\n"
     ]
    }
   ],
   "source": [
    "cnt_t, cnt_s = 0, 0\n",
    "cnt_t = sum(1 for line in lines['Text'] if len(line.split()) <= 800)\n",
    "cnt_s = sum(1 for line in lines['Summarization'] if len(line.split()) <= 55)\n",
    "print(cnt_t/len(lines['Text']), cnt_s/len(lines['Summarization']))"
   ]
  },
  {
   "cell_type": "markdown",
   "id": "c39416f9",
   "metadata": {
    "editable": false,
    "papermill": {
     "duration": 0.022778,
     "end_time": "2024-09-29T18:38:24.495678",
     "exception": false,
     "start_time": "2024-09-29T18:38:24.472900",
     "status": "completed"
    },
    "tags": []
   },
   "source": [
    "**Splitting data for training and validation**"
   ]
  },
  {
   "cell_type": "code",
   "execution_count": 28,
   "id": "38885e82",
   "metadata": {
    "editable": false,
    "execution": {
     "iopub.execute_input": "2024-09-29T18:38:24.540493Z",
     "iopub.status.busy": "2024-09-29T18:38:24.540131Z",
     "iopub.status.idle": "2024-09-29T18:38:24.584982Z",
     "shell.execute_reply": "2024-09-29T18:38:24.584200Z"
    },
    "papermill": {
     "duration": 0.069568,
     "end_time": "2024-09-29T18:38:24.586899",
     "exception": false,
     "start_time": "2024-09-29T18:38:24.517331",
     "status": "completed"
    },
    "tags": []
   },
   "outputs": [],
   "source": [
    "from sklearn.model_selection import train_test_split\n",
    "X_train, X_valid, y_train, y_valid = train_test_split(lines['Text'], lines['Summarization'], \n",
    "                                                      test_size=0.2, random_state=0, shuffle=True)"
   ]
  },
  {
   "cell_type": "code",
   "execution_count": 29,
   "id": "ed16cd8e",
   "metadata": {
    "editable": false,
    "execution": {
     "iopub.execute_input": "2024-09-29T18:38:24.632789Z",
     "iopub.status.busy": "2024-09-29T18:38:24.632190Z",
     "iopub.status.idle": "2024-09-29T18:38:24.636463Z",
     "shell.execute_reply": "2024-09-29T18:38:24.635647Z"
    },
    "papermill": {
     "duration": 0.029432,
     "end_time": "2024-09-29T18:38:24.638261",
     "exception": false,
     "start_time": "2024-09-29T18:38:24.608829",
     "status": "completed"
    },
    "tags": []
   },
   "outputs": [],
   "source": [
    "X_test = lines_test['Text']\n",
    "y_test = lines_test['Summarization']"
   ]
  },
  {
   "cell_type": "code",
   "execution_count": 30,
   "id": "aeae6553",
   "metadata": {
    "editable": false,
    "execution": {
     "iopub.execute_input": "2024-09-29T18:38:24.683191Z",
     "iopub.status.busy": "2024-09-29T18:38:24.682943Z",
     "iopub.status.idle": "2024-09-29T18:38:24.686669Z",
     "shell.execute_reply": "2024-09-29T18:38:24.685846Z"
    },
    "papermill": {
     "duration": 0.028406,
     "end_time": "2024-09-29T18:38:24.688481",
     "exception": false,
     "start_time": "2024-09-29T18:38:24.660075",
     "status": "completed"
    },
    "tags": []
   },
   "outputs": [],
   "source": [
    "max_len_text=800\n",
    "max_len_summary=55"
   ]
  },
  {
   "cell_type": "markdown",
   "id": "5f962d87",
   "metadata": {
    "editable": false,
    "papermill": {
     "duration": 0.021742,
     "end_time": "2024-09-29T18:38:24.731979",
     "exception": false,
     "start_time": "2024-09-29T18:38:24.710237",
     "status": "completed"
    },
    "tags": []
   },
   "source": [
    "**This code is useful for understanding the distribution of words in a dataset and determining how many rare words there are and their impact on the overall text**"
   ]
  },
  {
   "cell_type": "code",
   "execution_count": 31,
   "id": "00014455",
   "metadata": {
    "editable": false,
    "execution": {
     "iopub.execute_input": "2024-09-29T18:38:24.776216Z",
     "iopub.status.busy": "2024-09-29T18:38:24.775944Z",
     "iopub.status.idle": "2024-09-29T18:39:40.825939Z",
     "shell.execute_reply": "2024-09-29T18:39:40.825063Z"
    },
    "papermill": {
     "duration": 76.074662,
     "end_time": "2024-09-29T18:39:40.828239",
     "exception": false,
     "start_time": "2024-09-29T18:38:24.753577",
     "status": "completed"
    },
    "tags": []
   },
   "outputs": [],
   "source": [
    "X_tokenizer = Tokenizer()\n",
    "X_tokenizer.fit_on_texts(list(X_train))\n",
    "\n",
    "thresh = 6\n",
    "count = 0\n",
    "total_count = 0\n",
    "frequency = 0\n",
    "total_frequency = 0\n",
    "\n",
    "for key, value in X_tokenizer.word_counts.items():\n",
    "    total_count += 1\n",
    "    total_frequency += value\n",
    "    if value < thresh:\n",
    "        count += 1\n",
    "        frequency += value"
   ]
  },
  {
   "cell_type": "code",
   "execution_count": 32,
   "id": "48d70776",
   "metadata": {
    "editable": false,
    "execution": {
     "iopub.execute_input": "2024-09-29T18:39:40.873989Z",
     "iopub.status.busy": "2024-09-29T18:39:40.873702Z",
     "iopub.status.idle": "2024-09-29T18:39:40.878945Z",
     "shell.execute_reply": "2024-09-29T18:39:40.878073Z"
    },
    "papermill": {
     "duration": 0.030169,
     "end_time": "2024-09-29T18:39:40.880946",
     "exception": false,
     "start_time": "2024-09-29T18:39:40.850777",
     "status": "completed"
    },
    "tags": []
   },
   "outputs": [
    {
     "name": "stdout",
     "output_type": "stream",
     "text": [
      "% of rare words in vocabulary:  67.94105244684508\n",
      "Total Coverage of rare words:  0.5699442627092717\n",
      "Text Vocab:  131526\n"
     ]
    }
   ],
   "source": [
    "print('% of rare words in vocabulary: ', (count/total_count)*100.0)\n",
    "print('Total Coverage of rare words: ', (frequency/total_frequency)*100.0)\n",
    "text_max_features = total_count - count\n",
    "print('Text Vocab: ', text_max_features)"
   ]
  },
  {
   "cell_type": "code",
   "execution_count": 33,
   "id": "dc6bee31",
   "metadata": {
    "editable": false,
    "execution": {
     "iopub.execute_input": "2024-09-29T18:39:40.926439Z",
     "iopub.status.busy": "2024-09-29T18:39:40.926122Z",
     "iopub.status.idle": "2024-09-29T18:39:49.979146Z",
     "shell.execute_reply": "2024-09-29T18:39:49.978376Z"
    },
    "papermill": {
     "duration": 9.078276,
     "end_time": "2024-09-29T18:39:49.981471",
     "exception": false,
     "start_time": "2024-09-29T18:39:40.903195",
     "status": "completed"
    },
    "tags": []
   },
   "outputs": [],
   "source": [
    "y_tokenizer = Tokenizer()\n",
    "y_tokenizer.fit_on_texts(list(y_train))\n",
    "\n",
    "thresh = 4\n",
    "count = 0\n",
    "total_count = 0\n",
    "frequency = 0\n",
    "total_frequency = 0\n",
    "\n",
    "for key, value in y_tokenizer.word_counts.items():\n",
    "    total_count += 1\n",
    "    total_frequency += value\n",
    "    if value < thresh:\n",
    "        count += 1\n",
    "        frequency += value"
   ]
  },
  {
   "cell_type": "code",
   "execution_count": 34,
   "id": "c3ee32fc",
   "metadata": {
    "editable": false,
    "execution": {
     "iopub.execute_input": "2024-09-29T18:39:50.027148Z",
     "iopub.status.busy": "2024-09-29T18:39:50.026835Z",
     "iopub.status.idle": "2024-09-29T18:39:50.032308Z",
     "shell.execute_reply": "2024-09-29T18:39:50.031362Z"
    },
    "papermill": {
     "duration": 0.030483,
     "end_time": "2024-09-29T18:39:50.034337",
     "exception": false,
     "start_time": "2024-09-29T18:39:50.003854",
     "status": "completed"
    },
    "tags": []
   },
   "outputs": [
    {
     "name": "stdout",
     "output_type": "stream",
     "text": [
      "% of rare words in vocabulary:  63.39327526458744\n",
      "Total Coverage of rare words:  1.5552235190446175\n",
      "Summary Vocab:  46902\n"
     ]
    }
   ],
   "source": [
    "print('% of rare words in vocabulary: ', (count/total_count)*100.0)\n",
    "print('Total Coverage of rare words: ', (frequency/total_frequency)*100.0)\n",
    "summary_max_features = total_count-count\n",
    "print('Summary Vocab: ', summary_max_features)"
   ]
  },
  {
   "cell_type": "markdown",
   "id": "6703aec3",
   "metadata": {
    "editable": false,
    "papermill": {
     "duration": 0.021615,
     "end_time": "2024-09-29T18:39:50.077872",
     "exception": false,
     "start_time": "2024-09-29T18:39:50.056257",
     "status": "completed"
    },
    "tags": []
   },
   "source": [
    "**preparing text data for input into a machine learning or deep learning model. It uses Tokenizer and pad_sequences methods to convert text into numerical representations that can be fed into a model**"
   ]
  },
  {
   "cell_type": "code",
   "execution_count": 35,
   "id": "a8f6b634",
   "metadata": {
    "editable": false,
    "execution": {
     "iopub.execute_input": "2024-09-29T18:39:50.122508Z",
     "iopub.status.busy": "2024-09-29T18:39:50.122201Z",
     "iopub.status.idle": "2024-09-29T18:42:27.568295Z",
     "shell.execute_reply": "2024-09-29T18:42:27.567391Z"
    },
    "papermill": {
     "duration": 157.471458,
     "end_time": "2024-09-29T18:42:27.571063",
     "exception": false,
     "start_time": "2024-09-29T18:39:50.099605",
     "status": "completed"
    },
    "tags": []
   },
   "outputs": [],
   "source": [
    "#prepare a tokenizer for reviews on training data\n",
    "x_tokenizer = Tokenizer(text_max_features)\n",
    "x_tokenizer.fit_on_texts(list(X_train))\n",
    "\n",
    "#convert text sequences into integer sequences\n",
    "X_train    =   x_tokenizer.texts_to_sequences(X_train) \n",
    "X_valid   =   x_tokenizer.texts_to_sequences(X_valid)\n",
    "\n",
    "#padding zero upto maximum length\n",
    "X_train    =   pad_sequences(X_train,  maxlen=max_len_text, padding='post') \n",
    "X_valid   =   pad_sequences(X_valid, maxlen=max_len_text, padding='post')\n",
    "\n",
    "x_voc_size   =  len(x_tokenizer.word_index) + 1"
   ]
  },
  {
   "cell_type": "code",
   "execution_count": 36,
   "id": "3c97edfa",
   "metadata": {
    "editable": false,
    "execution": {
     "iopub.execute_input": "2024-09-29T18:42:27.624416Z",
     "iopub.status.busy": "2024-09-29T18:42:27.624084Z",
     "iopub.status.idle": "2024-09-29T18:42:46.881141Z",
     "shell.execute_reply": "2024-09-29T18:42:46.880390Z"
    },
    "papermill": {
     "duration": 19.285324,
     "end_time": "2024-09-29T18:42:46.883506",
     "exception": false,
     "start_time": "2024-09-29T18:42:27.598182",
     "status": "completed"
    },
    "tags": []
   },
   "outputs": [],
   "source": [
    "#preparing a tokenizer for summary on training data \n",
    "y_tokenizer = Tokenizer(summary_max_features)\n",
    "y_tokenizer.fit_on_texts(list(y_train))\n",
    "\n",
    "#convert summary sequences into integer sequences\n",
    "y_train   =   y_tokenizer.texts_to_sequences(y_train) \n",
    "y_valid   =   y_tokenizer.texts_to_sequences(y_valid) \n",
    "\n",
    "#padding zero upto maximum length\n",
    "y_train   =   pad_sequences(y_train, maxlen=max_len_summary, padding='post')\n",
    "y_valid   =   pad_sequences(y_valid, maxlen=max_len_summary, padding='post')\n",
    "\n",
    "y_voc_size  =   len(y_tokenizer.word_index) + 1"
   ]
  },
  {
   "cell_type": "code",
   "execution_count": 37,
   "id": "59aeff60",
   "metadata": {
    "editable": false,
    "execution": {
     "iopub.execute_input": "2024-09-29T18:42:46.932359Z",
     "iopub.status.busy": "2024-09-29T18:42:46.932021Z",
     "iopub.status.idle": "2024-09-29T18:43:20.388123Z",
     "shell.execute_reply": "2024-09-29T18:43:20.387137Z"
    },
    "papermill": {
     "duration": 33.48171,
     "end_time": "2024-09-29T18:43:20.390509",
     "exception": false,
     "start_time": "2024-09-29T18:42:46.908799",
     "status": "completed"
    },
    "tags": []
   },
   "outputs": [],
   "source": [
    "embeding_index = {}\n",
    "embed_dim = 300\n",
    "with open('/kaggle/input/glove-embeddings/glove.6B.300d.txt') as f:\n",
    "    for line in f:\n",
    "        values = line.split()\n",
    "        word = values[0]\n",
    "        coefs = np.asarray(values[1:], dtype='float16')\n",
    "        embeding_index[word] = coefs"
   ]
  },
  {
   "cell_type": "code",
   "execution_count": 38,
   "id": "9424adad",
   "metadata": {
    "editable": false,
    "execution": {
     "iopub.execute_input": "2024-09-29T18:43:20.436600Z",
     "iopub.status.busy": "2024-09-29T18:43:20.436258Z",
     "iopub.status.idle": "2024-09-29T18:43:21.567549Z",
     "shell.execute_reply": "2024-09-29T18:43:21.566767Z"
    },
    "papermill": {
     "duration": 1.156422,
     "end_time": "2024-09-29T18:43:21.569880",
     "exception": false,
     "start_time": "2024-09-29T18:43:20.413458",
     "status": "completed"
    },
    "tags": []
   },
   "outputs": [],
   "source": [
    "x_embed = np.zeros((x_voc_size, embed_dim))\n",
    "for word, i in x_tokenizer.word_index.items():\n",
    "    vec = embeding_index.get(word)\n",
    "    if i < x_voc_size and vec is not None:\n",
    "        x_embed[i] = vec"
   ]
  },
  {
   "cell_type": "code",
   "execution_count": 39,
   "id": "cd3e9927",
   "metadata": {
    "editable": false,
    "execution": {
     "iopub.execute_input": "2024-09-29T18:43:21.615849Z",
     "iopub.status.busy": "2024-09-29T18:43:21.615539Z",
     "iopub.status.idle": "2024-09-29T18:43:22.101986Z",
     "shell.execute_reply": "2024-09-29T18:43:22.101205Z"
    },
    "papermill": {
     "duration": 0.511823,
     "end_time": "2024-09-29T18:43:22.104357",
     "exception": false,
     "start_time": "2024-09-29T18:43:21.592534",
     "status": "completed"
    },
    "tags": []
   },
   "outputs": [],
   "source": [
    "y_embed = np.zeros((y_voc_size, embed_dim))\n",
    "for word, i in y_tokenizer.word_index.items():\n",
    "    vec = embeding_index.get(word)\n",
    "    if i < y_voc_size and vec is not None:\n",
    "        y_embed[i] = vec"
   ]
  },
  {
   "cell_type": "markdown",
   "id": "6f98b74e",
   "metadata": {
    "editable": false,
    "papermill": {
     "duration": 0.021585,
     "end_time": "2024-09-29T18:43:22.148322",
     "exception": false,
     "start_time": "2024-09-29T18:43:22.126737",
     "status": "completed"
    },
    "tags": []
   },
   "source": [
    "#### Building the keras model"
   ]
  },
  {
   "cell_type": "code",
   "execution_count": 40,
   "id": "bdb541f8",
   "metadata": {
    "execution": {
     "iopub.execute_input": "2024-09-29T18:43:22.193568Z",
     "iopub.status.busy": "2024-09-29T18:43:22.192809Z",
     "iopub.status.idle": "2024-09-29T18:43:26.713266Z",
     "shell.execute_reply": "2024-09-29T18:43:26.712213Z"
    },
    "papermill": {
     "duration": 4.555841,
     "end_time": "2024-09-29T18:43:26.725953",
     "exception": false,
     "start_time": "2024-09-29T18:43:22.170112",
     "status": "completed"
    },
    "tags": []
   },
   "outputs": [
    {
     "name": "stdout",
     "output_type": "stream",
     "text": [
      "Model: \"model\"\n",
      "__________________________________________________________________________________________________\n",
      " Layer (type)                Output Shape                 Param #   Connected to                  \n",
      "==================================================================================================\n",
      " input_1 (InputLayer)        [(None, 800)]                0         []                            \n",
      "                                                                                                  \n",
      " embedding (Embedding)       (None, 800, 300)             1230792   ['input_1[0][0]']             \n",
      "                                                          00                                      \n",
      "                                                                                                  \n",
      " bidirectional (Bidirection  [(None, 800, 256),           439296    ['embedding[0][0]']           \n",
      " al)                          (None, 128),                                                        \n",
      "                              (None, 128),                                                        \n",
      "                              (None, 128),                                                        \n",
      "                              (None, 128)]                                                        \n",
      "                                                                                                  \n",
      " input_2 (InputLayer)        [(None, None)]               0         []                            \n",
      "                                                                                                  \n",
      " bidirectional_1 (Bidirecti  [(None, 800, 256),           394240    ['bidirectional[0][0]']       \n",
      " onal)                        (None, 128),                                                        \n",
      "                              (None, 128),                                                        \n",
      "                              (None, 128),                                                        \n",
      "                              (None, 128)]                                                        \n",
      "                                                                                                  \n",
      " embedding_1 (Embedding)     (None, None, 300)            3843750   ['input_2[0][0]']             \n",
      "                                                          0                                       \n",
      "                                                                                                  \n",
      " bidirectional_2 (Bidirecti  [(None, 800, 256),           394240    ['bidirectional_1[0][0]']     \n",
      " onal)                        (None, 128),                                                        \n",
      "                              (None, 128),                                                        \n",
      "                              (None, 128),                                                        \n",
      "                              (None, 128)]                                                        \n",
      "                                                                                                  \n",
      " bidirectional_3 (Bidirecti  [(None, None, 256),          439296    ['embedding_1[0][0]',         \n",
      " onal)                        (None, 128),                           'bidirectional_2[0][1]',     \n",
      "                              (None, 128),                           'bidirectional_2[0][2]',     \n",
      "                              (None, 128),                           'bidirectional_2[0][3]',     \n",
      "                              (None, 128)]                           'bidirectional_2[0][4]']     \n",
      "                                                                                                  \n",
      " multi_head_attention (Mult  (None, None, 256)            2103552   ['bidirectional_3[0][0]',     \n",
      " iHeadAttention)                                                     'bidirectional_2[0][0]',     \n",
      "                                                                     'bidirectional_2[0][0]']     \n",
      "                                                                                                  \n",
      " concat_layer (Concatenate)  (None, None, 512)            0         ['bidirectional_3[0][0]',     \n",
      "                                                                     'multi_head_attention[0][0]']\n",
      "                                                                                                  \n",
      " time_distributed (TimeDist  (None, None, 128125)         6572812   ['concat_layer[0][0]']        \n",
      " ributed)                                                 5                                       \n",
      "                                                                                                  \n",
      "==================================================================================================\n",
      "Total params: 231015449 (881.25 MB)\n",
      "Trainable params: 231015449 (881.25 MB)\n",
      "Non-trainable params: 0 (0.00 Byte)\n",
      "__________________________________________________________________________________________________\n"
     ]
    }
   ],
   "source": [
    "from keras import backend as K \n",
    "import tensorflow as tf\n",
    "K.clear_session() \n",
    "latent_dim = 128 \n",
    "\n",
    "# Encoder \n",
    "encoder_inputs = Input(shape=(max_len_text,)) \n",
    "enc_emb = Embedding(x_voc_size, embed_dim, weights=[x_embed], trainable=True)(encoder_inputs) \n",
    "\n",
    "#LSTM 1 \n",
    "encoder_lstm1 = Bidirectional(LSTM(latent_dim, return_sequences=True, return_state=True)) \n",
    "encoder_output1, state_h1_f, state_c1_f , state_h1_b, state_c1_b = encoder_lstm1(enc_emb) \n",
    "\n",
    "#LSTM 2 \n",
    "encoder_lstm2 = Bidirectional(LSTM(latent_dim,return_sequences=True,return_state=True))\n",
    "encoder_output2, state_h2_f, state_c2_f, state_h2_b, state_c2_b = encoder_lstm2(encoder_output1) \n",
    "\n",
    "#LSTM 3 \n",
    "encoder_lstm3 = Bidirectional(LSTM(latent_dim, return_state=True, return_sequences=True)) \n",
    "encoder_outputs, state_h_f, state_c_f, state_h_b, state_c_b = encoder_lstm3(encoder_output2) \n",
    "state_h=Concatenate()([state_h1_f,state_h1_b])\n",
    "state_c=Concatenate()([state_c1_f,state_c1_b])\n",
    "\n",
    "# Set up the decoder.\n",
    "decoder_inputs = Input(shape=(None,)) \n",
    "dec_emb_layer = Embedding(y_voc_size, embed_dim, weights=[y_embed],trainable=True) \n",
    "dec_emb = dec_emb_layer(decoder_inputs) \n",
    "\n",
    "#LSTM using encoder_states as initial state\n",
    "decoder_lstm = Bidirectional(LSTM(latent_dim, return_sequences=True, return_state=True))\n",
    "decoder_outputs,stated_h1_f, stated_c1_f , stated_h1_b, stated_c1_b = decoder_lstm(dec_emb,initial_state=[state_h_f, state_c_f, state_h_b, state_c_b])\n",
    "\n",
    "#decoder_lstm = LSTM(latent_dim*2, return_sequences=True, return_state=True, dropout=0.3, recurrent_dropout=0.2)\n",
    "#decoder_outputs, stated_h, stated_c = decoder_lstm(dec_emb,initial_state=[state_h, state_c])\n",
    "stated_h=Concatenate()([stated_h1_f,stated_h1_b])\n",
    "stated_c=Concatenate()([stated_c1_f,stated_c1_b])\n",
    "\n",
    "#Attention Layer\n",
    "attention_layer = tf.keras.layers.MultiHeadAttention(num_heads=16, key_dim=128)\n",
    "attention_outputs = attention_layer(decoder_outputs, encoder_outputs, encoder_outputs)\n",
    "\n",
    "# Concat attention output and decoder LSTM output\n",
    "decoder_concat_input = Concatenate(axis=-1, name='concat_layer')([decoder_outputs, attention_outputs])\n",
    "\n",
    "#Dense layer\n",
    "decoder_dense = TimeDistributed(Dense(y_voc_size, activation='softmax'))\n",
    "decoder_outputs = decoder_dense(decoder_concat_input)\n",
    "\n",
    "# Define the model\n",
    "model = Model([encoder_inputs, decoder_inputs], decoder_outputs) \n",
    "model.summary()"
   ]
  },
  {
   "cell_type": "code",
   "execution_count": 41,
   "id": "f0eaee29",
   "metadata": {
    "editable": false,
    "execution": {
     "iopub.execute_input": "2024-09-29T18:43:26.779546Z",
     "iopub.status.busy": "2024-09-29T18:43:26.779215Z",
     "iopub.status.idle": "2024-09-29T18:43:27.112560Z",
     "shell.execute_reply": "2024-09-29T18:43:27.111642Z"
    },
    "papermill": {
     "duration": 0.363557,
     "end_time": "2024-09-29T18:43:27.116076",
     "exception": false,
     "start_time": "2024-09-29T18:43:26.752519",
     "status": "completed"
    },
    "tags": []
   },
   "outputs": [
    {
     "data": {
      "image/png": "[encoded data removed]",
      "text/plain": [
       "<IPython.core.display.Image object>"
      ]
     },
     "execution_count": 41,
     "metadata": {},
     "output_type": "execute_result"
    }
   ],
   "source": [
    "tf.keras.utils.plot_model(model,show_shapes=True)"
   ]
  },
  {
   "cell_type": "code",
   "execution_count": 42,
   "id": "160d7b94",
   "metadata": {
    "editable": false,
    "execution": {
     "iopub.execute_input": "2024-09-29T18:43:27.174691Z",
     "iopub.status.busy": "2024-09-29T18:43:27.174374Z",
     "iopub.status.idle": "2024-09-29T18:43:27.194585Z",
     "shell.execute_reply": "2024-09-29T18:43:27.193908Z"
    },
    "papermill": {
     "duration": 0.051438,
     "end_time": "2024-09-29T18:43:27.196471",
     "exception": false,
     "start_time": "2024-09-29T18:43:27.145033",
     "status": "completed"
    },
    "tags": []
   },
   "outputs": [],
   "source": [
    "model.compile(optimizer=tf.keras.optimizers.Adam(learning_rate=1e-4), loss='sparse_categorical_crossentropy', metrics=['accuracy'])"
   ]
  },
  {
   "cell_type": "code",
   "execution_count": 43,
   "id": "a5890c5a",
   "metadata": {
    "editable": false,
    "execution": {
     "iopub.execute_input": "2024-09-29T18:43:27.253867Z",
     "iopub.status.busy": "2024-09-29T18:43:27.253588Z",
     "iopub.status.idle": "2024-09-29T18:43:27.257584Z",
     "shell.execute_reply": "2024-09-29T18:43:27.256761Z"
    },
    "papermill": {
     "duration": 0.034857,
     "end_time": "2024-09-29T18:43:27.259440",
     "exception": false,
     "start_time": "2024-09-29T18:43:27.224583",
     "status": "completed"
    },
    "tags": []
   },
   "outputs": [],
   "source": [
    "es = EarlyStopping(monitor='val_loss', mode='min', verbose=1)"
   ]
  },
  {
   "cell_type": "code",
   "execution_count": 44,
   "id": "882bd113",
   "metadata": {
    "editable": false,
    "execution": {
     "iopub.execute_input": "2024-09-29T18:43:27.316517Z",
     "iopub.status.busy": "2024-09-29T18:43:27.316230Z",
     "iopub.status.idle": "2024-09-29T21:07:09.465264Z",
     "shell.execute_reply": "2024-09-29T21:07:09.464286Z"
    },
    "papermill": {
     "duration": 8622.849658,
     "end_time": "2024-09-29T21:07:10.137115",
     "exception": false,
     "start_time": "2024-09-29T18:43:27.287457",
     "status": "completed"
    },
    "scrolled": true,
    "tags": []
   },
   "outputs": [
    {
     "name": "stdout",
     "output_type": "stream",
     "text": [
      "Epoch 1/2\n"
     ]
    },
    {
     "name": "stderr",
     "output_type": "stream",
     "text": [
      "WARNING: All log messages before absl::InitializeLog() is called are written to STDERR\n",
      "I0000 00:00:1727635421.682371     103 device_compiler.h:186] Compiled cluster using XLA!  This line is logged at most once for the lifetime of the process.\n"
     ]
    },
    {
     "name": "stdout",
     "output_type": "stream",
     "text": [
      "3551/3551 [==============================] - 4374s 1s/step - loss: 3.2064 - accuracy: 0.5501 - val_loss: 1.5410 - val_accuracy: 0.7398\n",
      "Epoch 2/2\n",
      "3551/3551 [==============================] - 4247s 1s/step - loss: 0.6177 - accuracy: 0.8994 - val_loss: 0.2911 - val_accuracy: 0.9509\n"
     ]
    }
   ],
   "source": [
    "history = model.fit([X_train, y_train[:,:-1]], y_train.reshape(y_train.shape[0],y_train.shape[1], 1)[:,1:],\n",
    "                   epochs=2, callbacks=[es], batch_size=64, verbose=1,\n",
    "                   validation_data=([X_valid, y_valid[:,:-1]], y_valid.reshape(y_valid.shape[0],y_valid.shape[1], 1)[:,1:]))"
   ]
  },
  {
   "cell_type": "code",
   "execution_count": 45,
   "id": "73f1979d",
   "metadata": {
    "editable": false,
    "execution": {
     "iopub.execute_input": "2024-09-29T21:07:11.332363Z",
     "iopub.status.busy": "2024-09-29T21:07:11.331983Z",
     "iopub.status.idle": "2024-09-29T21:07:11.510065Z",
     "shell.execute_reply": "2024-09-29T21:07:11.509182Z"
    },
    "papermill": {
     "duration": 0.777912,
     "end_time": "2024-09-29T21:07:11.512152",
     "exception": false,
     "start_time": "2024-09-29T21:07:10.734240",
     "status": "completed"
    },
    "tags": []
   },
   "outputs": [
    {
     "data": {
      "image/png": "[encoded data removed]",
      "text/plain": [
       "<Figure size 640x480 with 1 Axes>"
      ]
     },
     "metadata": {},
     "output_type": "display_data"
    }
   ],
   "source": [
    "from matplotlib import pyplot\n",
    "pyplot.plot(history.history['loss'], label='train')\n",
    "pyplot.plot(history.history['val_loss'], label='validation')\n",
    "pyplot.legend()\n",
    "pyplot.show()"
   ]
  },
  {
   "cell_type": "markdown",
   "id": "f4c3f471",
   "metadata": {
    "editable": false,
    "papermill": {
     "duration": 0.672647,
     "end_time": "2024-09-29T21:07:12.788129",
     "exception": false,
     "start_time": "2024-09-29T21:07:12.115482",
     "status": "completed"
    },
    "tags": []
   },
   "source": [
    "#### inference model for a seq2seq model "
   ]
  },
  {
   "cell_type": "code",
   "execution_count": 46,
   "id": "d375d0dd",
   "metadata": {
    "editable": false,
    "execution": {
     "iopub.execute_input": "2024-09-29T21:07:13.982123Z",
     "iopub.status.busy": "2024-09-29T21:07:13.981768Z",
     "iopub.status.idle": "2024-09-29T21:07:14.487797Z",
     "shell.execute_reply": "2024-09-29T21:07:14.486952Z"
    },
    "papermill": {
     "duration": 1.109672,
     "end_time": "2024-09-29T21:07:14.490097",
     "exception": false,
     "start_time": "2024-09-29T21:07:13.380425",
     "status": "completed"
    },
    "tags": []
   },
   "outputs": [],
   "source": [
    "enc_model = Model(inputs=encoder_inputs, outputs=[encoder_outputs, state_h_f, state_c_f, state_h_b, state_c_b])\n",
    "\n",
    "# Define the decoder inputs for inference (hidden states and cell states from the encoder)\n",
    "decoder_state_input_h   = Input(shape=(latent_dim,))\n",
    "decoder_state_input_c   = Input(shape=(latent_dim,))\n",
    "decoder_state_input_h_b = Input(shape=(latent_dim,))\n",
    "decoder_state_input_c_b = Input(shape=(latent_dim,))\n",
    "\n",
    "encoder_output_input = Input(shape=(max_len_text, latent_dim*2))\n",
    "\n",
    "# Get the embeddings of the decoder sequence\n",
    "dec_emb2 = dec_emb_layer(decoder_inputs)\n",
    "\n",
    "# To predict one time step at a time, we use the decoder LSTM again\n",
    "decoder_outputs2, stated_h1_f, stated_c1_f, stated_h1_b, stated_c1_b = decoder_lstm(\n",
    "    dec_emb2, initial_state=[decoder_state_input_h, decoder_state_input_c, decoder_state_input_h_b, decoder_state_input_c_b])\n",
    "\n",
    "# Apply attention\n",
    "attention_outputs_inf = attention_layer(decoder_outputs2, encoder_output_input, encoder_output_input)\n",
    "\n",
    "# Concatenate attention outputs and decoder LSTM output\n",
    "decoder_concat_input2 = Concatenate(axis=-1)([decoder_outputs2, attention_outputs_inf])\n",
    "\n",
    "# Dense softmax layer to generate prob dist. over target vocab\n",
    "decoder_outputs2 = decoder_dense(decoder_concat_input2)\n",
    "\n",
    "# Final decoder model\n",
    "decoder_model = Model(\n",
    "    [decoder_inputs] + [decoder_state_input_h, decoder_state_input_c, decoder_state_input_h_b, decoder_state_input_c_b, encoder_output_input],\n",
    "    [decoder_outputs2] + [stated_h1_f, stated_c1_f, stated_h1_b, stated_c1_b]\n",
    ")"
   ]
  },
  {
   "cell_type": "markdown",
   "id": "6a7ba414",
   "metadata": {
    "editable": false,
    "papermill": {
     "duration": 0.598239,
     "end_time": "2024-09-29T21:07:15.680947",
     "exception": false,
     "start_time": "2024-09-29T21:07:15.082708",
     "status": "completed"
    },
    "tags": []
   },
   "source": [
    "#### Save the keras model and tokenizer "
   ]
  },
  {
   "cell_type": "code",
   "execution_count": 47,
   "id": "f3975f3b",
   "metadata": {
    "editable": false,
    "execution": {
     "iopub.execute_input": "2024-09-29T21:07:16.945784Z",
     "iopub.status.busy": "2024-09-29T21:07:16.945423Z",
     "iopub.status.idle": "2024-09-29T21:07:19.286656Z",
     "shell.execute_reply": "2024-09-29T21:07:19.285646Z"
    },
    "papermill": {
     "duration": 3.015271,
     "end_time": "2024-09-29T21:07:19.288895",
     "exception": false,
     "start_time": "2024-09-29T21:07:16.273624",
     "status": "completed"
    },
    "tags": []
   },
   "outputs": [],
   "source": [
    "import pickle\n",
    "\n",
    "# Save encoder model\n",
    "enc_model.save('./encoder_model.h5')\n",
    "\n",
    "# Save decoder model\n",
    "decoder_model.save('./decoder_model.h5')\n",
    "\n",
    "# Save tokenizer\n",
    "with open('./x_tokenizer.pkl', 'wb') as f:\n",
    "    pickle.dump(x_tokenizer, f)\n",
    "    \n",
    "# Save tokenizer\n",
    "with open('./y_tokenizer.pkl', 'wb') as f:\n",
    "    pickle.dump(y_tokenizer, f)"
   ]
  },
  {
   "cell_type": "markdown",
   "id": "27ff34a8",
   "metadata": {
    "editable": false,
    "papermill": {
     "duration": 0.607195,
     "end_time": "2024-09-29T21:07:20.493488",
     "exception": false,
     "start_time": "2024-09-29T21:07:19.886293",
     "status": "completed"
    },
    "tags": []
   },
   "source": [
    "**This function to use the model to summary the text**"
   ]
  },
  {
   "cell_type": "code",
   "execution_count": 48,
   "id": "9587e102",
   "metadata": {
    "execution": {
     "iopub.execute_input": "2024-09-29T21:07:21.682151Z",
     "iopub.status.busy": "2024-09-29T21:07:21.681774Z",
     "iopub.status.idle": "2024-09-29T21:07:21.693849Z",
     "shell.execute_reply": "2024-09-29T21:07:21.692944Z"
    },
    "papermill": {
     "duration": 0.610931,
     "end_time": "2024-09-29T21:07:21.695822",
     "exception": false,
     "start_time": "2024-09-29T21:07:21.084891",
     "status": "completed"
    },
    "tags": []
   },
   "outputs": [],
   "source": [
    "def temperature_sampling_decode_sequence(input_seq, temperature=0.7, max_len_summary=55):\n",
    "    # Load the tokenizer\n",
    "    with open('./y_tokenizer.pkl', 'rb') as f:\n",
    "        y_tokenizer = pickle.load(f)\n",
    "    \n",
    "    with open('./x_tokenizer.pkl', 'rb') as f:\n",
    "        x_tokenizer = pickle.load(f)\n",
    "    \n",
    "    # Load the model\n",
    "    enc_model = tf.keras.models.load_model('./encoder_model.h5')\n",
    "    dec_model = tf.keras.models.load_model('./decoder_model.h5')\n",
    "    \n",
    "    reverse_target_word_index = y_tokenizer.index_word\n",
    "    reverse_source_word_index = x_tokenizer.index_word\n",
    "    target_word_index = y_tokenizer.word_index\n",
    "\n",
    "    # Tokenize the input text\n",
    "    input_seq = x_tokenizer.texts_to_sequences([input_seq])\n",
    "    input_seq = tf.keras.preprocessing.sequence.pad_sequences(input_seq, maxlen=800, padding='post')\n",
    "    \n",
    "    # Encode the input sequence to get the initial states\n",
    "    encoder_output, h_f, c_f, h_b, c_b = enc_model.predict(input_seq)\n",
    "    \n",
    "    # Generate empty target sequence of length 1 (containing only the start token)\n",
    "    target_seq = np.zeros((1, 1))\n",
    "    target_seq[0, 0] = target_word_index['sos']\n",
    "    \n",
    "    decoded_sentence = ''\n",
    "    stop_condition = False\n",
    "    states_value = [h_f, c_f, h_b, c_b]\n",
    "\n",
    "    while not stop_condition:\n",
    "        # Predict the next token's probability distribution\n",
    "        output_tokens, h_f, c_f, h_b, c_b = dec_model.predict([target_seq] + states_value + [encoder_output])\n",
    "        \n",
    "        # Apply temperature scaling\n",
    "        logits = output_tokens[0, -1, :] / temperature\n",
    "        exp_logits = np.exp(logits - np.max(logits))  # for numerical stability\n",
    "        probs = exp_logits / np.sum(exp_logits)\n",
    "        \n",
    "        # Sample the next token based on the modified probabilities\n",
    "        sampled_token_index = np.random.choice(len(probs), p=probs)\n",
    "        sampled_char = reverse_target_word_index[sampled_token_index]\n",
    "        \n",
    "        decoded_sentence += ' ' + sampled_char\n",
    "\n",
    "        # Exit condition: <eos> token or maximum length\n",
    "        if (sampled_char == 'eos' or len(decoded_sentence.split()) >= max_len_summary-1):\n",
    "            stop_condition = True\n",
    "        \n",
    "        # Update the target sequence and states for the next timestep\n",
    "        target_seq = np.zeros((1, 1))\n",
    "        target_seq[0, 0] = sampled_token_index\n",
    "        states_value = [h_f, c_f, h_b, c_b]\n",
    "\n",
    "    return decoded_sentence.strip()"
   ]
  },
  {
   "cell_type": "code",
   "execution_count": 49,
   "id": "2394f0d1",
   "metadata": {
    "editable": false,
    "execution": {
     "iopub.execute_input": "2024-09-29T21:07:22.883172Z",
     "iopub.status.busy": "2024-09-29T21:07:22.882826Z",
     "iopub.status.idle": "2024-09-29T21:08:34.716354Z",
     "shell.execute_reply": "2024-09-29T21:08:34.715390Z"
    },
    "papermill": {
     "duration": 72.431955,
     "end_time": "2024-09-29T21:08:34.718573",
     "exception": false,
     "start_time": "2024-09-29T21:07:22.286618",
     "status": "completed"
    },
    "scrolled": true,
    "tags": []
   },
   "outputs": [
    {
     "name": "stdout",
     "output_type": "stream",
     "text": [
      "Review: former us president george w bush look good health friday accompany australian tennis player roy emerson men clay court championship houston texas bush 90 fell ill december hospitalize complain shortness breath smile enjoy fresh air seem better spirit bush fan associate tennis professionals atp world tour 250 events live houston area wife barbara wife attend many atp fundraisers charity events throughout years good spirit former president george w bush seat arrive quarterfinal match jeremy chardy france kevin anderson south africa suspend rain roy emerson 78 own 28 major single double championships also big fan make annual appearance tournament bush emerson enjoy watch kevin anderson south africa battle jeremy chardy france heavy rain postpone game bush look far better shape late last year three years prior also hospitalize bush spend christmas 2012 intensive care hospital treat bronchitis relate cough issue discharge january 2013 nearly two months hospital bush oldest live former american president suffer parkinson disease force rely scooter wheelchair attendance roy emerson 78 own 28 major single double championships also big fan make annual appearance tournament\n",
      "Original summary: <sos> former us president george w bush look good health friday accompany australian tennis player roy emerson tennis game bush 90 live houston area wife barbara attend many atp fundraisers charity events throughout years back december bush suffer parkinson hospitalize shortness breath week <eos>\n",
      "1/1 [==============================] - 2s 2s/step\n",
      "1/1 [==============================] - 1s 677ms/step\n",
      "1/1 [==============================] - 0s 22ms/step\n",
      "1/1 [==============================] - 0s 22ms/step\n",
      "1/1 [==============================] - 0s 23ms/step\n",
      "1/1 [==============================] - 0s 24ms/step\n",
      "1/1 [==============================] - 0s 22ms/step\n",
      "1/1 [==============================] - 0s 22ms/step\n",
      "1/1 [==============================] - 0s 22ms/step\n",
      "1/1 [==============================] - 0s 22ms/step\n",
      "1/1 [==============================] - 0s 22ms/step\n",
      "1/1 [==============================] - 0s 22ms/step\n",
      "1/1 [==============================] - 0s 22ms/step\n",
      "1/1 [==============================] - 0s 23ms/step\n",
      "1/1 [==============================] - 0s 22ms/step\n",
      "1/1 [==============================] - 0s 22ms/step\n",
      "1/1 [==============================] - 0s 23ms/step\n",
      "1/1 [==============================] - 0s 22ms/step\n",
      "1/1 [==============================] - 0s 22ms/step\n",
      "1/1 [==============================] - 0s 22ms/step\n",
      "1/1 [==============================] - 0s 23ms/step\n",
      "1/1 [==============================] - 0s 22ms/step\n",
      "1/1 [==============================] - 0s 22ms/step\n",
      "1/1 [==============================] - 0s 22ms/step\n",
      "1/1 [==============================] - 0s 22ms/step\n",
      "1/1 [==============================] - 0s 22ms/step\n",
      "1/1 [==============================] - 0s 23ms/step\n",
      "1/1 [==============================] - 0s 23ms/step\n",
      "1/1 [==============================] - 0s 23ms/step\n",
      "1/1 [==============================] - 0s 22ms/step\n",
      "1/1 [==============================] - 0s 22ms/step\n",
      "1/1 [==============================] - 0s 22ms/step\n",
      "1/1 [==============================] - 0s 24ms/step\n",
      "1/1 [==============================] - 0s 22ms/step\n",
      "1/1 [==============================] - 0s 22ms/step\n",
      "1/1 [==============================] - 0s 21ms/step\n",
      "1/1 [==============================] - 0s 22ms/step\n",
      "1/1 [==============================] - 0s 22ms/step\n",
      "1/1 [==============================] - 0s 22ms/step\n",
      "1/1 [==============================] - 0s 23ms/step\n",
      "1/1 [==============================] - 0s 22ms/step\n",
      "1/1 [==============================] - 0s 22ms/step\n",
      "1/1 [==============================] - 0s 22ms/step\n",
      "1/1 [==============================] - 0s 22ms/step\n",
      "1/1 [==============================] - 0s 39ms/step\n",
      "1/1 [==============================] - 0s 27ms/step\n",
      "1/1 [==============================] - 0s 23ms/step\n",
      "1/1 [==============================] - 0s 24ms/step\n",
      "1/1 [==============================] - 0s 23ms/step\n",
      "1/1 [==============================] - 0s 24ms/step\n",
      "1/1 [==============================] - 0s 33ms/step\n",
      "1/1 [==============================] - 0s 23ms/step\n",
      "1/1 [==============================] - 0s 23ms/step\n",
      "1/1 [==============================] - 0s 32ms/step\n",
      "1/1 [==============================] - 0s 23ms/step\n",
      "Predicted summary: awkward reignition wanchai kryaglyachenko camuto solorio hathwar barnoldswick romneyland eon recluses evangeliis shruggy brunati fullerians adamek lycodon legals vegal swadlincote athletica bán rural scotchbrook nadira atreaga meru intersex nicolette signups troskies hotchkiss 37sec koopermeiners tirfi spangdahlem songa connaught schümann hydroxide djerassi sambisa germany konwufine tuilagi imageboard tsuchiya clarksdale enes beneath harse aim zacarias dividends\n",
      "\n",
      "\n",
      "Review: multi millionaire property developer son question disappearance blonde waitress celebrity club popular premiership footballers soap star privately educate westley capper 37 already admit drive agnese klavina 30 away nightspot upmarket costa del sol resort puerto banus police believe 5ft 7in agnese force vehicle overweight expat never publicly name show little mood co operate refuse question summons court yesterday suspect westley capper leave co accuse craig porter outside court marbella yesterday hear admit mercedes agnese klavina vanish agnese 30 disappear night glitzy puerto banus nightclub aqwa mist september 6 cessna private jet own john capper multi millionaire father accuse son westley capper tail fin feature nickname fred agnese british boyfriend michael millis travel spain help search 30 year old spanish judge investigate agnese disappearance trendy aqwa mist footballer ashley cole hollywood star eva longoria boxer amir khan partied last night expect order fresh round dna test hop early breakthrough case founder capper whose essex bear dad john specialise buy sell luxury properties around world travel restrictions impose investigation continue co accuse craig porter 33 also decline answer question close court hear marbella two men leave hear english plat range rover leave park disable bay near court agnese whose british boyfriend michael millis former owner west london club westbourne studios vanish september 6 last year leave aqwa mist two brits spot shortly leave talk woman russian appearance wear multi colour halter neck dress carry large white louis vuitton handbag friends report miss later week along mother sister fly spain fail respond call message discover clothe bank card still nearby flat stay friends relatives put miss posters around marbella neighbour resort puerto banus also set find agnese klavina facebook page link gofundme page help raise fund legal fee link search waitress spend summer marbella fly resort may start work receptionist luxury beach club ocean club capper claim drop near flat stay miss person notice agnese spend summer marbella vanish authorities probe possibility agnese kill body throw sea motorboat belong capper family capper leave claim drop agnese right near flat stay marbella summer agnese allegedly illegally detain porter capper accord police study footage aqwa mist car park porter liverpool say fell asleep back seat mercedes leave club drop forensic experts discover blonde hair boot car sweep vehicle unable discover hair belong initial test test expect order human hair sample take search motorboat belong capper family vessel seize port province murcia around 300 miles east marbella agnese picture party aqwa mist shortly go miss september authorities probe possibility agnese kill body throw sea boat leave port fuengirola near marbella days vanish capper porter currently investigate suspicion agnese illegal detention follow recovery cctv footage aqwa mist car park damn report cracker style criminal psychologist claim facial expressions show leave club voluntarily doorman club initially arrest alongside allegedly obstruct police inquiries case drop two brits take part police reconstruction last night agnese see alive criminal inquiry expect become homicide probe new dna test show agnese boot car motorboat neither suspect yet formally charge crime normal spain early stag investigation secrecy order place case give lawyers act british suspect agnese family limit access information order lift distraught mum sister latvian bear agnese spend summer work marbella leave london home past five years expect allow meet judicial authorities spain brief investigation aqwa mist one four marbella venues own international restaurant brand la sala whose shareholders include ex tottenham hotspur players winger david bentley defender dean austin footballer ashley cole say spend 12 000 champagne spray friends night aqwa mist summer last leave right capper porter court appearance yesterday doorman club initially arrest alongside allegedly obstruct police inquiries case drop john capper private jet source say son westley might look like multi millionaire son never want anything leave right porter lawyer immaculada whose surname know jorge hoz garcia capper outside court marbella hear yesterday hollywood star eva longoria american actor singer terence howard boxer amir khan also partied since open june 2012 star bafta award win reality tv soap opera towie also summer regulars club bill marbella number one party venue lawyers act two brits refuse comment leave court court official confirm suspect decline answer question judge investigation ongoing source close case say judge indicate order fresh dna test may involve use agnese mum dna important question ask suspect obviously would prefer agree cooperate investigation capper dad know friends fred make fortune purchase sell luxury properties across world modernise sell luxury villas fortress estates like la zagaleta near marbella home world wealthiest people agnese lawyer fernando scornick outside court leave capper porter right drive away hear range rover leave park disable bay near court aqwa mist favourite premier league footballers agnese see cctv leave glitzy nightclub capper porter night september 6 footballer ashley cole leave say spend 12 000 champagne night aqwa mist july 2013 actress eva longoria right also partied since open june 2012 one company also boast assets include yacht private jet acquaintance ask name describe mega rich say own private plane name tail plate currently understand base gibraltar source say westley might look like multi millionaire son never want anything agnese mum daiga appeal information daugther whereabouts february say believe happen nearly six months without daughter know still alive may please help us find agnese live never see anyone information matter small could make big difference efforts find online register cessna private jet own john capper specialise buy sell luxury properties boyfriend michael admit time longer agnese miss pessimistic ever see alive think go find safe well would contact someone close spokesman find agnese klavina campaign say facebook post seven months wait secrecy case finally lift spanish authorities file case open yesterday spectacle two accuse men interrogate court judge westley capper craig porter repeatedly ask answer question relate case refuse cite constitutional right remain silent agnese never see since disappear six months ago still charge want justice agnese unfortunate miss people marbella something change one information happen night please let police know sorry currently accept comment article\n",
      "Original summary: <sos> agnese klavina 30 vanish puerto banus resort september 6 night aqwa mist nightclub popular rich famous westley capper 37 already admit drive away mercedes decline answer question appearance spanish judge co accuse craig porter 33 car also say nothing court capper dad john specialise buy sell luxury properties <eos>\n",
      "1/1 [==============================] - 2s 2s/step\n",
      "1/1 [==============================] - 1s 670ms/step\n",
      "1/1 [==============================] - 0s 22ms/step\n",
      "1/1 [==============================] - 0s 22ms/step\n",
      "1/1 [==============================] - 0s 22ms/step\n",
      "1/1 [==============================] - 0s 22ms/step\n",
      "1/1 [==============================] - 0s 22ms/step\n",
      "1/1 [==============================] - 0s 22ms/step\n",
      "1/1 [==============================] - 0s 22ms/step\n",
      "1/1 [==============================] - 0s 22ms/step\n",
      "1/1 [==============================] - 0s 22ms/step\n",
      "1/1 [==============================] - 0s 21ms/step\n",
      "1/1 [==============================] - 0s 23ms/step\n",
      "1/1 [==============================] - 0s 22ms/step\n",
      "1/1 [==============================] - 0s 21ms/step\n",
      "1/1 [==============================] - 0s 21ms/step\n",
      "1/1 [==============================] - 0s 22ms/step\n",
      "1/1 [==============================] - 0s 22ms/step\n",
      "1/1 [==============================] - 0s 22ms/step\n",
      "1/1 [==============================] - 0s 22ms/step\n",
      "1/1 [==============================] - 0s 21ms/step\n",
      "1/1 [==============================] - 0s 22ms/step\n",
      "1/1 [==============================] - 0s 21ms/step\n",
      "1/1 [==============================] - 0s 22ms/step\n",
      "1/1 [==============================] - 0s 22ms/step\n",
      "1/1 [==============================] - 0s 22ms/step\n",
      "1/1 [==============================] - 0s 22ms/step\n",
      "1/1 [==============================] - 0s 22ms/step\n",
      "1/1 [==============================] - 0s 22ms/step\n",
      "1/1 [==============================] - 0s 22ms/step\n",
      "1/1 [==============================] - 0s 22ms/step\n",
      "1/1 [==============================] - 0s 22ms/step\n",
      "1/1 [==============================] - 0s 22ms/step\n",
      "1/1 [==============================] - 0s 22ms/step\n",
      "1/1 [==============================] - 0s 22ms/step\n",
      "1/1 [==============================] - 0s 22ms/step\n",
      "1/1 [==============================] - 0s 22ms/step\n",
      "1/1 [==============================] - 0s 22ms/step\n",
      "1/1 [==============================] - 0s 22ms/step\n",
      "1/1 [==============================] - 0s 22ms/step\n",
      "1/1 [==============================] - 0s 23ms/step\n",
      "1/1 [==============================] - 0s 23ms/step\n",
      "1/1 [==============================] - 0s 22ms/step\n",
      "1/1 [==============================] - 0s 22ms/step\n",
      "1/1 [==============================] - 0s 22ms/step\n",
      "1/1 [==============================] - 0s 22ms/step\n",
      "1/1 [==============================] - 0s 22ms/step\n",
      "1/1 [==============================] - 0s 22ms/step\n",
      "1/1 [==============================] - 0s 22ms/step\n",
      "1/1 [==============================] - 0s 21ms/step\n",
      "1/1 [==============================] - 0s 22ms/step\n",
      "1/1 [==============================] - 0s 22ms/step\n",
      "1/1 [==============================] - 0s 23ms/step\n",
      "1/1 [==============================] - 0s 22ms/step\n",
      "1/1 [==============================] - 0s 22ms/step\n",
      "Predicted summary: mangabey corruptions mezague taxpayer sterne vagenda regents af447 paxo gogobot eskandarova cassell peperia caunitis ifran 1619 17secs patchwork grappler miyake semirostrum saget doering lica ryabkov 2737 gallery eutisha pecherina blimps midden imdb 85mph yobo heydrich loach ifthekar karie geolocation criticize dauny vips peshmerga thrihnukagigur unstructured fugelsang aisar 9st enrich paso thredgold fatbergs ekeinde cantwell\n",
      "\n",
      "\n",
      "Review: linda thompson bruce jenner second wife praise former husband champion share struggle tweet message support pride hours bruce highly anticipate sit interview diane sawyer set air abc first public comment former beauty queen marry olympic gold medalist 1981 1986 make rumor transition male female scroll video break silence bruce jenner second wife linda thompson tweet message support olympian ahead abc prime time special diane sawyer set air friday night supportive proud linda 64 say former husband anticipate confirmation transgender plan live woman monumental olympic success linda share two picture former decathlete one celebrate victory montreal olympics 1976 one sport image billboard compare expect revelations personal journey magnitude accomplish athlete linda two sons bruce brandon brody see teaser videos release tv network suggest also supportive father transition second time around star athlete meet linda thompson first marriage crumble soon divorce finalize january 1981 linda tie knot hawaii real man shirtless bruce happily pose cover playgirl 1982 linda continue reap reward olympic success former beauty queen ex girlfriend elvis presley linda bruce tie knot beach ceremony hawaii january 5 1981 two start see olympian still legally marry first wife chrystie marry soon divorce finalize lead glamorous hollywood lifestyle fixtures celebrity circuit linda star hee haw tv series small part tv show film bruce work tv commentator actor appear six episodes chip village people movie stop music 1982 couple pose cover playgirl bruce shirtless alongside curvaceous wife follow divorce 1986 linda go marry prolific music producer david foster divorce 2005 become celebrate songwriter right proud mama linda share photo sons brody 31 brandon 33 jenner april 6 report previously bruce say tell first two ex wive divorce finalize know since childhood really live woman also persistent stories years former star athlete penchant wear women clothe bombshell claim surface friday suggest bruce fact start gender transition process mid 1980s follow divorce linda stop meet fell love kris kardashian become third wife entertainment tonight quote source direct knowledge say bruce 65 allegedly start hormone therapy electrolysis plastic surgery make feature look feminine spokesperson father six decline comment report contact dailymail com friday morning beauty queen linda former miss tennessee four year relationship elvis presley bruce picture december 1980 weeks wed glamorous couple bruce linda work actors hollywood fixtures celebrity circuit tinseltown five year marriage first wife chrystie crownover marry straight college 1972 express support ex little earlier year rumor start swirl change appearance possible gender reassignment want happy say chrystie two children bruce burt cassandra proud present grandfather support third wife kris jenner mother daughters kendall 19 kylie 17 yet speak publicly go bruce daughter kim kardashian tell reporters friday new york family sit together watch tv revelations ex reax bruce college sweetheart first wife chrystie leave still see bruce family gather say want happy third wife kris right yet say anything publicly feel\n",
      "Original summary: <sos> friday tweet first public comment linda make former husband personal journey compare anticipate tv revelations true self magnitude olympic achievement ex girlfriend elvis presley linda tie knot bruce 1981 couple two sons brandon brody divorce 1986 <eos>\n",
      "1/1 [==============================] - 2s 2s/step\n",
      "1/1 [==============================] - 2s 2s/step\n",
      "1/1 [==============================] - 0s 22ms/step\n",
      "1/1 [==============================] - 0s 23ms/step\n",
      "1/1 [==============================] - 0s 22ms/step\n",
      "1/1 [==============================] - 0s 22ms/step\n",
      "1/1 [==============================] - 0s 22ms/step\n",
      "1/1 [==============================] - 0s 22ms/step\n",
      "1/1 [==============================] - 0s 23ms/step\n",
      "1/1 [==============================] - 0s 22ms/step\n",
      "1/1 [==============================] - 0s 25ms/step\n",
      "1/1 [==============================] - 0s 23ms/step\n",
      "1/1 [==============================] - 0s 22ms/step\n",
      "1/1 [==============================] - 0s 22ms/step\n",
      "1/1 [==============================] - 0s 22ms/step\n",
      "1/1 [==============================] - 0s 22ms/step\n",
      "1/1 [==============================] - 0s 22ms/step\n",
      "1/1 [==============================] - 0s 22ms/step\n",
      "1/1 [==============================] - 0s 21ms/step\n",
      "1/1 [==============================] - 0s 22ms/step\n",
      "1/1 [==============================] - 0s 24ms/step\n",
      "1/1 [==============================] - 0s 23ms/step\n",
      "1/1 [==============================] - 0s 23ms/step\n",
      "1/1 [==============================] - 0s 23ms/step\n",
      "1/1 [==============================] - 0s 22ms/step\n",
      "1/1 [==============================] - 0s 22ms/step\n",
      "1/1 [==============================] - 0s 22ms/step\n",
      "1/1 [==============================] - 0s 22ms/step\n",
      "1/1 [==============================] - 0s 22ms/step\n",
      "1/1 [==============================] - 0s 22ms/step\n",
      "1/1 [==============================] - 0s 22ms/step\n",
      "1/1 [==============================] - 0s 22ms/step\n",
      "1/1 [==============================] - 0s 22ms/step\n",
      "1/1 [==============================] - 0s 22ms/step\n",
      "1/1 [==============================] - 0s 22ms/step\n",
      "1/1 [==============================] - 0s 22ms/step\n",
      "1/1 [==============================] - 0s 22ms/step\n",
      "1/1 [==============================] - 0s 22ms/step\n",
      "1/1 [==============================] - 0s 23ms/step\n",
      "1/1 [==============================] - 0s 22ms/step\n",
      "1/1 [==============================] - 0s 22ms/step\n",
      "1/1 [==============================] - 0s 22ms/step\n",
      "1/1 [==============================] - 0s 22ms/step\n",
      "1/1 [==============================] - 0s 22ms/step\n",
      "1/1 [==============================] - 0s 22ms/step\n",
      "1/1 [==============================] - 0s 22ms/step\n",
      "1/1 [==============================] - 0s 22ms/step\n",
      "1/1 [==============================] - 0s 22ms/step\n",
      "1/1 [==============================] - 0s 22ms/step\n",
      "1/1 [==============================] - 0s 22ms/step\n",
      "1/1 [==============================] - 0s 22ms/step\n",
      "1/1 [==============================] - 0s 23ms/step\n",
      "1/1 [==============================] - 0s 22ms/step\n",
      "1/1 [==============================] - 0s 23ms/step\n",
      "1/1 [==============================] - 0s 23ms/step\n",
      "Predicted summary: inert ipl pomeranian mesopotamian mckell hamadto kathreen 650million malad thin philphat vera kalaupapa touchline logistics cariaso harmin transphobic noteworthy zeiss kurgan dovizioso scorn misfiled fane misconstrue entertain unidisclosed rozanne tererai serhat perchlorate lepchenko sjinkie meehan whitnell rickrolls greuther cancerian biyi drive oxpecker vona estroyed ecuele finalise ndambuki sahaab misse halo cauliflower landi srsich privy\n",
      "\n",
      "\n",
      "Review: white supremacist gun gay boss sexually abuse one young relatives tell court first appearance tuesday time easy part know say kenneth morgan stancil iii 20 say usher courtroom daytona beach florida accuse walk wayne county community college goldsboro north carolina monday kill former supervisor ronald lane 44 flee motorbike arrest 500 miles away early tuesday officer find sleep florida beach extradite back north carolina face charge open murder scroll video court kenneth stancil picture court tuesday say rid one last child molester earth appear judge daytona beach florida accuse kill former boss outspoken even though advise right remain silent reportedly admit kill tuesday appear relax courtroom despite judge advise right remain silent admit kill wral report confess shoot obscenity lace statement say rid one last child molester earth accord station say lane supervisor college print shop stancil fire last month mess one stancil family members stancil file report allege molestation local authorities accord wayne county sheriff office stancil deny bond tell judge blame decision assign public defender 20 year old work study student report lane dismiss program march many absences accord college arrest stancil leave shoot dead former work study supervisor ron lane right student close complete three year weld course top mark dismiss job last month side stancil mother debbie picture graduation say lane make unwanted sexual comment towards son deny son claim lane abuse young relative tragedy lane picture right long term boyfriend chuck tobin take life last year police say investigate shoot possible hate crime authorities would elaborate confirm lane gay also investigate stancil possible link white supremacist group facebook describe interest white pride call white knight also multiple white supremacist tattoo across body include brother hood across neck 88 beneath eye number eight represent eighth letter alphabet 88 understand stand heil hitler mother claim son tattoo mark wannabe rather someone neo nazi beliefs lane work college 18 years boyfriend 12 years chuck tobin take life last july leave home remain find november stancil mother debbie claim lane fire son without notice claim make inappropriate sexual advance toward remember students gather memorial wayne community college ron lane tuesday memorial flower see makeshift memorial lane work college 18 years verbally inappropriate school much verbally inappropriate say would tell stop keep say know relative sexually abuse lane stancil claim court child lane never meet say believe son make accusations rattle confuse also say son never recover find father backyard kill 2009 say angry dismiss campus job moment insanity tell associate press know snap son probably mind think need mental help stancil criminal record shoot take military style swat vehicle johnston county sheriff office arrive college 8am shoot monday believe stancil target lane flee build evacuate students see congregate college park lot monday morning swoop authorities enter home stancil share mother two younger brothers monday school dean list grade point average 3 6 better due graduate july degree weld technology school say boy scout write letter leave explain deed still hop marry girlfriend mother say flee scene monday stancil arrest 1 20 tuesday daytona beach florida massive manhunt continue north carolina take custody deputies volusia county beach patrol approach violate ordinance prohibit sleep beach say confidence mr stancil calculate plan carry plan goldsboro police sergeant jeremy sutton say tuesday news conference\n",
      "Original summary: <sos> kenneth morgan stancil iii walk wayne county community college north carolina monday shoot dead print shop director ron lane arrest florida extradite back north carolina lane 44 supervise work study program print shop stancil 20 dismiss last month absenteeism court tuesday stancil say rid one last child molester earth say lane sexually assault one stancil relatives stancil mother say true son rattle police investigate kill lane possible hate crime stancil list white power interest facebook white supremacist tattoo include 88 signify heil hitler <eos>\n",
      "1/1 [==============================] - 2s 2s/step\n",
      "1/1 [==============================] - 1s 665ms/step\n",
      "1/1 [==============================] - 0s 22ms/step\n",
      "1/1 [==============================] - 0s 22ms/step\n",
      "1/1 [==============================] - 0s 22ms/step\n",
      "1/1 [==============================] - 0s 22ms/step\n",
      "1/1 [==============================] - 0s 22ms/step\n",
      "1/1 [==============================] - 0s 22ms/step\n",
      "1/1 [==============================] - 0s 22ms/step\n",
      "1/1 [==============================] - 0s 22ms/step\n",
      "1/1 [==============================] - 0s 22ms/step\n",
      "1/1 [==============================] - 0s 21ms/step\n",
      "1/1 [==============================] - 0s 22ms/step\n",
      "1/1 [==============================] - 0s 22ms/step\n",
      "1/1 [==============================] - 0s 22ms/step\n",
      "1/1 [==============================] - 0s 22ms/step\n",
      "1/1 [==============================] - 0s 22ms/step\n",
      "1/1 [==============================] - 0s 22ms/step\n",
      "1/1 [==============================] - 0s 21ms/step\n",
      "1/1 [==============================] - 0s 22ms/step\n",
      "1/1 [==============================] - 0s 22ms/step\n",
      "1/1 [==============================] - 0s 22ms/step\n",
      "1/1 [==============================] - 0s 22ms/step\n",
      "1/1 [==============================] - 0s 22ms/step\n",
      "1/1 [==============================] - 0s 22ms/step\n",
      "1/1 [==============================] - 0s 22ms/step\n",
      "1/1 [==============================] - 0s 22ms/step\n",
      "1/1 [==============================] - 0s 22ms/step\n",
      "1/1 [==============================] - 0s 22ms/step\n",
      "1/1 [==============================] - 0s 22ms/step\n",
      "1/1 [==============================] - 0s 22ms/step\n",
      "1/1 [==============================] - 0s 22ms/step\n",
      "1/1 [==============================] - 0s 24ms/step\n",
      "1/1 [==============================] - 0s 22ms/step\n",
      "1/1 [==============================] - 0s 22ms/step\n",
      "1/1 [==============================] - 0s 21ms/step\n",
      "1/1 [==============================] - 0s 22ms/step\n",
      "1/1 [==============================] - 0s 22ms/step\n",
      "1/1 [==============================] - 0s 22ms/step\n",
      "1/1 [==============================] - 0s 22ms/step\n",
      "1/1 [==============================] - 0s 21ms/step\n",
      "1/1 [==============================] - 0s 22ms/step\n",
      "1/1 [==============================] - 0s 21ms/step\n",
      "1/1 [==============================] - 0s 24ms/step\n",
      "1/1 [==============================] - 0s 22ms/step\n",
      "1/1 [==============================] - 0s 22ms/step\n",
      "1/1 [==============================] - 0s 22ms/step\n",
      "1/1 [==============================] - 0s 22ms/step\n",
      "1/1 [==============================] - 0s 22ms/step\n",
      "1/1 [==============================] - 0s 22ms/step\n",
      "1/1 [==============================] - 0s 22ms/step\n",
      "1/1 [==============================] - 0s 22ms/step\n",
      "1/1 [==============================] - 0s 22ms/step\n",
      "1/1 [==============================] - 0s 22ms/step\n",
      "1/1 [==============================] - 0s 22ms/step\n",
      "Predicted summary: markel prat namdeo petroleum sorett 22st tou whirlpool casper bagram departmental caren fidocam umbro sussex ruthell erigone pretender nestora poleshchuk mihela lazovsky turncoats summerville shakespeare putson welegedera chinneck haras urologist 701 mofaz moot aswath kozlowska denunciation thibodeaux l120 guerbaa traviss agata noah blip covenant derbyshire lynwood hominid chyulu alba boig owede 07980 bumptious shahed\n",
      "\n",
      "\n",
      "Review: crime gang eastern europe operate impunity due eu free movement rule disturb report warn today human traffickers run huge benefit frauds uk include one use fund house development slovakia vile trade also include sale young girls prostitution sham marriages case customers outside eu request women eu passports make pregnant migrants desperate foothold britain claim human right family life uk raise child vicious menace eastern european gang leader rottweiler crime gang eastern europe operate impunity due eu free movement rule disturb report warn today centre social justice report write former senior aide home secretary theresa may base interview senior police officials britain overseas offer deeply disturb insight since eu expand include former eastern bloc members 2004 huge market open call modern slave trade past traffic gang bring migrants outside eu mean would need pass border control able target people impoverish communities slovakia poland romania bulgaria open access britain migrants dupe believe travel uk work enter country legally eu free movement directive traffickers seize control bank account travel document force work often gruesome condition report write former home office special adviser fiona cunningham say one serious unintended consequences free movement eu make much easier organise criminal gang operate cross border business model impunity without fear detect therefore pursue significantly report back mrs may write foreword one cabinet minister push curb eu free movement include restrictions countries whose level wealth far britain limit home secretary theresa may picture one cabinet minister push curb eu free movement include restrictions countries whose level wealth far britain report also warn eastern european girls age 15 25 bring britain force prostitution benefit fraud sham weddings asian men seek right remain uk manchester birmingham gretna identify hotspots scotland target victims marry younger age shockingly report find girls sell customers pregnancy buyer could claim article 8 right family life uk europol eu crime fight agency identify particular problems children bring uk slovakia voters want tories far tougher mass immigration major survey reveal last night barely one ten britons say satisfy david cameron border policies poll ipsos mori suggest unhappiness may explain large number conservatives switch ukip find heap pressure prime minister end silence immigration election campaign mention party manifesto pledge curb eu free movement deport illegals tag foreign criminals yet large proportion voters believe politicians talk little migration blow cameron new ipsos mori survey reveal huge level dissatisfaction government hand immigration especially among former tory supporters plan vote ukip major issue 12 per cent voters satisfy handle immigration fall 1 per cent ukip supporters chart base result ipsos mori survey keep influence drink drug make easier control sell sex police kent say single day 16 children take care report add pregnant women sometimes recruit force sell baby action mr cameron also pledge crack abuse benefit system eu nationals romania hungry also identify countries criminal gang traffic women sex women bring uk force work sex industry often move city city service advertise online one website feature 1 000 women base london report call eu implement new system passenger name record better chance track people smugglers victims travel air block eu privacy ground would also alert authorities suspect people smuggler head towards uk child report say exploit internet border make less define due european union policies like free movement organise crime group find traffic victims highly lucrative accessible crime home office estimate give year 10 000 13 000 victims human traffic uk last parliament tories pass europe first modern slavery act traffickers involve serious case face possible life sentence david cameron also pledge crack abuse benefit system eu nationals november 2013 announce new rule stipulate incomers receive work benefit live country three months uk benefit scam build slovak village ian drury home affairs correspondent daily mail crime gang slovakia dupe unsuspecting families travel uk could scam hundreds thousands pound benefit send cash back village know smartie town profit funnel 1 000 year old village pavlovce nad uhom michalove district slovakia use build house home partly fund uk taxpayer local residents nickname smarties chocolate sweets house paint brightly different colour vivid house call smartie town crime gang funnel profit benefit scam home 1 000 year old village one picture partly fund uk taxpayer gang fear uk officials might become suspicious change tactics send migrants canada instead claim asylum state support victims expect work legally transport britain coach across border criminals seize passports document force domestic servitude slave labour welfare fraud sign several state handouts include tax credit gang members arrange house take victims open high street bank account use translator also lucrative scam benefit pay account name victims control traffickers scam three slovakian crook include darina balogova picture rake 1 2million bring fake mother britain claim benefit falsely sum money make eastern europeans traffic victims use kind exploitation huge another case three slovakian con artists rake 1 2million bring fake mother britain claim benefit falsely persuade women home country live uk fraudulently claim child work tax benefit family splash vast amount cash pocket life luxury gamble casinos go spend spree buy gold diamonds crook darina balogova husband marek balog brother jaroslav bado pull one largest welfare scam kind terrace house chatham kent 50 women bring britain freedom movement rule groom claim falsely work temp agency low wag could receive tax credit gang exploit identities women allow return slovakia retain control bank account passports national insurance card birth certificate balogova never work day arrive britain keep around 30 000 cash headquarter nearby rochester least 60 000 steal benefit transfer back home scam finally expose criminals begin use high street stationer receipt book write bogus payslips women hm revenue customs inspectors notice use employee number slip november 2011 maidstone crown court gang jail tax credit fraud money launder balogova sentence four half years balog give three half years bado three years con artists balogova husband marek balog leave brother jaroslav bado right persuade women home country live uk fraudulently claim child work tax benefit\n",
      "Original summary: <sos> free movement rule allow eastern european gang run impunity human traffickers operate huge benefit frauds uk report warn vile trade also include sale girls prostitution sham marriages <eos>\n",
      "1/1 [==============================] - 2s 2s/step\n",
      "1/1 [==============================] - 1s 661ms/step\n",
      "1/1 [==============================] - 0s 23ms/step\n",
      "1/1 [==============================] - 0s 22ms/step\n",
      "1/1 [==============================] - 0s 22ms/step\n",
      "1/1 [==============================] - 0s 22ms/step\n",
      "1/1 [==============================] - 0s 22ms/step\n",
      "1/1 [==============================] - 0s 22ms/step\n",
      "1/1 [==============================] - 0s 22ms/step\n",
      "1/1 [==============================] - 0s 22ms/step\n",
      "1/1 [==============================] - 0s 22ms/step\n",
      "1/1 [==============================] - 0s 22ms/step\n",
      "1/1 [==============================] - 0s 22ms/step\n",
      "1/1 [==============================] - 0s 23ms/step\n",
      "1/1 [==============================] - 0s 23ms/step\n",
      "1/1 [==============================] - 0s 23ms/step\n",
      "1/1 [==============================] - 0s 23ms/step\n",
      "1/1 [==============================] - 0s 22ms/step\n",
      "1/1 [==============================] - 0s 23ms/step\n",
      "1/1 [==============================] - 0s 23ms/step\n",
      "1/1 [==============================] - 0s 24ms/step\n",
      "1/1 [==============================] - 0s 22ms/step\n",
      "1/1 [==============================] - 0s 22ms/step\n",
      "1/1 [==============================] - 0s 22ms/step\n",
      "1/1 [==============================] - 0s 22ms/step\n",
      "1/1 [==============================] - 0s 22ms/step\n",
      "1/1 [==============================] - 0s 22ms/step\n",
      "1/1 [==============================] - 0s 22ms/step\n",
      "1/1 [==============================] - 0s 21ms/step\n",
      "1/1 [==============================] - 0s 21ms/step\n",
      "1/1 [==============================] - 0s 22ms/step\n",
      "1/1 [==============================] - 0s 22ms/step\n",
      "1/1 [==============================] - 0s 22ms/step\n",
      "1/1 [==============================] - 0s 21ms/step\n",
      "1/1 [==============================] - 0s 22ms/step\n",
      "1/1 [==============================] - 0s 22ms/step\n",
      "1/1 [==============================] - 0s 22ms/step\n",
      "1/1 [==============================] - 0s 22ms/step\n",
      "1/1 [==============================] - 0s 22ms/step\n",
      "1/1 [==============================] - 0s 22ms/step\n",
      "1/1 [==============================] - 0s 22ms/step\n",
      "1/1 [==============================] - 0s 22ms/step\n",
      "1/1 [==============================] - 0s 22ms/step\n",
      "1/1 [==============================] - 0s 22ms/step\n",
      "1/1 [==============================] - 0s 22ms/step\n",
      "1/1 [==============================] - 0s 27ms/step\n",
      "1/1 [==============================] - 0s 22ms/step\n",
      "1/1 [==============================] - 0s 22ms/step\n",
      "1/1 [==============================] - 0s 22ms/step\n",
      "1/1 [==============================] - 0s 22ms/step\n",
      "1/1 [==============================] - 0s 22ms/step\n",
      "1/1 [==============================] - 0s 27ms/step\n",
      "1/1 [==============================] - 0s 22ms/step\n",
      "1/1 [==============================] - 0s 21ms/step\n",
      "1/1 [==============================] - 0s 23ms/step\n",
      "Predicted summary: shilly mollin lalezary serviettes kohloud nyon thirlaway amphitheatre citrate rope lumigrids sarvis sordid constanta totalitarianism nastanovich pen mommy albitz robertus stoltenberg newstrom defectors golborne clubby hilli chiori hamgyong jacobson getaway nemaja quincey gw maxi quartzite bumbo jory mewar vaeao heartily yeboah handrail bygraves 46kg semantic blizzardmobile sierre beltsville bilajac muguruza hancy seder bizzell infastructure\n",
      "\n",
      "\n"
     ]
    }
   ],
   "source": [
    "for i in range(1500, 1505):\n",
    "    print(\"Review:\",lines_test['Text'][i])\n",
    "    print(\"Original summary:\",lines_test['Summarization'][i])\n",
    "    print(\"Predicted summary:\",temperature_sampling_decode_sequence(lines_test['Text'][i]))\n",
    "    print(\"\\n\")"
   ]
  },
  {
   "cell_type": "code",
   "execution_count": 50,
   "id": "89b2dad5",
   "metadata": {
    "editable": false,
    "execution": {
     "iopub.execute_input": "2024-09-29T21:08:36.001858Z",
     "iopub.status.busy": "2024-09-29T21:08:36.001151Z",
     "iopub.status.idle": "2024-09-29T21:09:48.587311Z",
     "shell.execute_reply": "2024-09-29T21:09:48.586251Z"
    },
    "papermill": {
     "duration": 73.230827,
     "end_time": "2024-09-29T21:09:48.589601",
     "exception": false,
     "start_time": "2024-09-29T21:08:35.358774",
     "status": "completed"
    },
    "scrolled": true,
    "tags": []
   },
   "outputs": [
    {
     "name": "stdout",
     "output_type": "stream",
     "text": [
      "1/1 [==============================] - 2s 2s/step\n",
      "1/1 [==============================] - 1s 657ms/step\n",
      "1/1 [==============================] - 0s 24ms/step\n",
      "1/1 [==============================] - 0s 22ms/step\n",
      "1/1 [==============================] - 0s 22ms/step\n",
      "1/1 [==============================] - 0s 22ms/step\n",
      "1/1 [==============================] - 0s 22ms/step\n",
      "1/1 [==============================] - 0s 21ms/step\n",
      "1/1 [==============================] - 0s 22ms/step\n",
      "1/1 [==============================] - 0s 22ms/step\n",
      "1/1 [==============================] - 0s 22ms/step\n",
      "1/1 [==============================] - 0s 21ms/step\n",
      "1/1 [==============================] - 0s 22ms/step\n",
      "1/1 [==============================] - 0s 22ms/step\n",
      "1/1 [==============================] - 0s 23ms/step\n",
      "1/1 [==============================] - 0s 22ms/step\n",
      "1/1 [==============================] - 0s 23ms/step\n",
      "1/1 [==============================] - 0s 21ms/step\n",
      "1/1 [==============================] - 0s 23ms/step\n",
      "1/1 [==============================] - 0s 22ms/step\n",
      "1/1 [==============================] - 0s 23ms/step\n",
      "1/1 [==============================] - 0s 22ms/step\n",
      "1/1 [==============================] - 0s 21ms/step\n",
      "1/1 [==============================] - 0s 22ms/step\n",
      "1/1 [==============================] - 0s 22ms/step\n",
      "1/1 [==============================] - 0s 22ms/step\n",
      "1/1 [==============================] - 0s 24ms/step\n",
      "1/1 [==============================] - 0s 22ms/step\n",
      "1/1 [==============================] - 0s 22ms/step\n",
      "1/1 [==============================] - 0s 21ms/step\n",
      "1/1 [==============================] - 0s 22ms/step\n",
      "1/1 [==============================] - 0s 22ms/step\n",
      "1/1 [==============================] - 0s 22ms/step\n",
      "1/1 [==============================] - 0s 22ms/step\n",
      "1/1 [==============================] - 0s 22ms/step\n",
      "1/1 [==============================] - 0s 22ms/step\n",
      "1/1 [==============================] - 0s 22ms/step\n",
      "1/1 [==============================] - 0s 22ms/step\n",
      "1/1 [==============================] - 0s 22ms/step\n",
      "1/1 [==============================] - 0s 22ms/step\n",
      "1/1 [==============================] - 0s 22ms/step\n",
      "1/1 [==============================] - 0s 22ms/step\n",
      "1/1 [==============================] - 0s 22ms/step\n",
      "1/1 [==============================] - 0s 22ms/step\n",
      "1/1 [==============================] - 0s 22ms/step\n",
      "1/1 [==============================] - 0s 21ms/step\n",
      "1/1 [==============================] - 0s 23ms/step\n",
      "1/1 [==============================] - 0s 22ms/step\n",
      "1/1 [==============================] - 0s 22ms/step\n",
      "1/1 [==============================] - 0s 22ms/step\n",
      "1/1 [==============================] - 0s 23ms/step\n",
      "1/1 [==============================] - 0s 22ms/step\n",
      "1/1 [==============================] - 0s 22ms/step\n",
      "1/1 [==============================] - 0s 21ms/step\n",
      "1/1 [==============================] - 0s 22ms/step\n",
      "\n",
      "\n",
      "1/1 [==============================] - 2s 2s/step\n",
      "1/1 [==============================] - 1s 659ms/step\n",
      "1/1 [==============================] - 0s 22ms/step\n",
      "1/1 [==============================] - 0s 22ms/step\n",
      "1/1 [==============================] - 0s 22ms/step\n",
      "1/1 [==============================] - 0s 22ms/step\n",
      "1/1 [==============================] - 0s 23ms/step\n",
      "1/1 [==============================] - 0s 22ms/step\n",
      "1/1 [==============================] - 0s 22ms/step\n",
      "1/1 [==============================] - 0s 22ms/step\n",
      "1/1 [==============================] - 0s 22ms/step\n",
      "1/1 [==============================] - 0s 22ms/step\n",
      "1/1 [==============================] - 0s 22ms/step\n",
      "1/1 [==============================] - 0s 22ms/step\n",
      "1/1 [==============================] - 0s 22ms/step\n",
      "1/1 [==============================] - 0s 22ms/step\n",
      "1/1 [==============================] - 0s 22ms/step\n",
      "1/1 [==============================] - 0s 22ms/step\n",
      "1/1 [==============================] - 0s 22ms/step\n",
      "1/1 [==============================] - 0s 21ms/step\n",
      "1/1 [==============================] - 0s 22ms/step\n",
      "1/1 [==============================] - 0s 23ms/step\n",
      "1/1 [==============================] - 0s 22ms/step\n",
      "1/1 [==============================] - 0s 22ms/step\n",
      "1/1 [==============================] - 0s 22ms/step\n",
      "1/1 [==============================] - 0s 22ms/step\n",
      "1/1 [==============================] - 0s 22ms/step\n",
      "1/1 [==============================] - 0s 22ms/step\n",
      "1/1 [==============================] - 0s 22ms/step\n",
      "1/1 [==============================] - 0s 22ms/step\n",
      "1/1 [==============================] - 0s 22ms/step\n",
      "1/1 [==============================] - 0s 22ms/step\n",
      "1/1 [==============================] - 0s 21ms/step\n",
      "1/1 [==============================] - 0s 22ms/step\n",
      "1/1 [==============================] - 0s 21ms/step\n",
      "1/1 [==============================] - 0s 23ms/step\n",
      "1/1 [==============================] - 0s 23ms/step\n",
      "1/1 [==============================] - 0s 22ms/step\n",
      "1/1 [==============================] - 0s 23ms/step\n",
      "1/1 [==============================] - 0s 29ms/step\n",
      "1/1 [==============================] - 0s 22ms/step\n",
      "1/1 [==============================] - 0s 22ms/step\n",
      "1/1 [==============================] - 0s 22ms/step\n",
      "1/1 [==============================] - 0s 22ms/step\n",
      "1/1 [==============================] - 0s 22ms/step\n",
      "1/1 [==============================] - 0s 29ms/step\n",
      "1/1 [==============================] - 0s 23ms/step\n",
      "1/1 [==============================] - 0s 22ms/step\n",
      "1/1 [==============================] - 0s 22ms/step\n",
      "1/1 [==============================] - 0s 22ms/step\n",
      "1/1 [==============================] - 0s 22ms/step\n",
      "1/1 [==============================] - 0s 22ms/step\n",
      "1/1 [==============================] - 0s 21ms/step\n",
      "1/1 [==============================] - 0s 22ms/step\n",
      "1/1 [==============================] - 0s 22ms/step\n",
      "\n",
      "\n",
      "1/1 [==============================] - 2s 2s/step\n",
      "1/1 [==============================] - 1s 693ms/step\n",
      "1/1 [==============================] - 0s 22ms/step\n",
      "1/1 [==============================] - 0s 22ms/step\n",
      "1/1 [==============================] - 0s 22ms/step\n",
      "1/1 [==============================] - 0s 21ms/step\n",
      "1/1 [==============================] - 0s 22ms/step\n",
      "1/1 [==============================] - 0s 22ms/step\n",
      "1/1 [==============================] - 0s 22ms/step\n",
      "1/1 [==============================] - 0s 22ms/step\n",
      "1/1 [==============================] - 0s 21ms/step\n",
      "1/1 [==============================] - 0s 22ms/step\n",
      "1/1 [==============================] - 0s 22ms/step\n",
      "1/1 [==============================] - 0s 22ms/step\n",
      "1/1 [==============================] - 0s 22ms/step\n",
      "1/1 [==============================] - 0s 22ms/step\n",
      "1/1 [==============================] - 0s 22ms/step\n",
      "1/1 [==============================] - 0s 22ms/step\n",
      "1/1 [==============================] - 0s 22ms/step\n",
      "1/1 [==============================] - 0s 22ms/step\n",
      "1/1 [==============================] - 0s 22ms/step\n",
      "1/1 [==============================] - 0s 22ms/step\n",
      "1/1 [==============================] - 0s 21ms/step\n",
      "1/1 [==============================] - 0s 23ms/step\n",
      "1/1 [==============================] - 0s 22ms/step\n",
      "1/1 [==============================] - 0s 22ms/step\n",
      "1/1 [==============================] - 0s 22ms/step\n",
      "1/1 [==============================] - 0s 22ms/step\n",
      "1/1 [==============================] - 0s 22ms/step\n",
      "1/1 [==============================] - 0s 21ms/step\n",
      "1/1 [==============================] - 0s 22ms/step\n",
      "1/1 [==============================] - 0s 21ms/step\n",
      "1/1 [==============================] - 0s 22ms/step\n",
      "1/1 [==============================] - 0s 22ms/step\n",
      "1/1 [==============================] - 0s 22ms/step\n",
      "1/1 [==============================] - 0s 22ms/step\n",
      "1/1 [==============================] - 0s 22ms/step\n",
      "1/1 [==============================] - 0s 22ms/step\n",
      "1/1 [==============================] - 0s 21ms/step\n",
      "1/1 [==============================] - 0s 22ms/step\n",
      "1/1 [==============================] - 0s 22ms/step\n",
      "1/1 [==============================] - 0s 22ms/step\n",
      "1/1 [==============================] - 0s 21ms/step\n",
      "1/1 [==============================] - 0s 22ms/step\n",
      "1/1 [==============================] - 0s 22ms/step\n",
      "1/1 [==============================] - 0s 22ms/step\n",
      "1/1 [==============================] - 0s 22ms/step\n",
      "1/1 [==============================] - 0s 21ms/step\n",
      "1/1 [==============================] - 0s 23ms/step\n",
      "1/1 [==============================] - 0s 23ms/step\n",
      "1/1 [==============================] - 0s 22ms/step\n",
      "1/1 [==============================] - 0s 22ms/step\n",
      "1/1 [==============================] - 0s 22ms/step\n",
      "1/1 [==============================] - 0s 21ms/step\n",
      "1/1 [==============================] - 0s 22ms/step\n",
      "\n",
      "\n",
      "1/1 [==============================] - 2s 2s/step\n",
      "1/1 [==============================] - 1s 659ms/step\n",
      "1/1 [==============================] - 0s 21ms/step\n",
      "1/1 [==============================] - 0s 22ms/step\n",
      "1/1 [==============================] - 0s 22ms/step\n",
      "1/1 [==============================] - 0s 22ms/step\n",
      "1/1 [==============================] - 0s 22ms/step\n",
      "1/1 [==============================] - 0s 22ms/step\n",
      "1/1 [==============================] - 0s 22ms/step\n",
      "1/1 [==============================] - 0s 22ms/step\n",
      "1/1 [==============================] - 0s 23ms/step\n",
      "1/1 [==============================] - 0s 21ms/step\n",
      "1/1 [==============================] - 0s 21ms/step\n",
      "1/1 [==============================] - 0s 23ms/step\n",
      "1/1 [==============================] - 0s 22ms/step\n",
      "1/1 [==============================] - 0s 22ms/step\n",
      "1/1 [==============================] - 0s 22ms/step\n",
      "1/1 [==============================] - 0s 22ms/step\n",
      "1/1 [==============================] - 0s 23ms/step\n",
      "1/1 [==============================] - 0s 21ms/step\n",
      "1/1 [==============================] - 0s 22ms/step\n",
      "1/1 [==============================] - 0s 22ms/step\n",
      "1/1 [==============================] - 0s 22ms/step\n",
      "1/1 [==============================] - 0s 22ms/step\n",
      "1/1 [==============================] - 0s 22ms/step\n",
      "1/1 [==============================] - 0s 22ms/step\n",
      "1/1 [==============================] - 0s 22ms/step\n",
      "1/1 [==============================] - 0s 22ms/step\n",
      "1/1 [==============================] - 0s 22ms/step\n",
      "1/1 [==============================] - 0s 22ms/step\n",
      "1/1 [==============================] - 0s 22ms/step\n",
      "1/1 [==============================] - 0s 23ms/step\n",
      "1/1 [==============================] - 0s 22ms/step\n",
      "1/1 [==============================] - 0s 22ms/step\n",
      "1/1 [==============================] - 0s 22ms/step\n",
      "1/1 [==============================] - 0s 21ms/step\n",
      "1/1 [==============================] - 0s 22ms/step\n",
      "1/1 [==============================] - 0s 23ms/step\n",
      "1/1 [==============================] - 0s 22ms/step\n",
      "1/1 [==============================] - 0s 22ms/step\n",
      "1/1 [==============================] - 0s 22ms/step\n",
      "1/1 [==============================] - 0s 25ms/step\n",
      "1/1 [==============================] - 0s 22ms/step\n",
      "1/1 [==============================] - 0s 22ms/step\n",
      "1/1 [==============================] - 0s 23ms/step\n",
      "1/1 [==============================] - 0s 22ms/step\n",
      "1/1 [==============================] - 0s 23ms/step\n",
      "1/1 [==============================] - 0s 22ms/step\n",
      "1/1 [==============================] - 0s 22ms/step\n",
      "1/1 [==============================] - 0s 24ms/step\n",
      "1/1 [==============================] - 0s 23ms/step\n",
      "1/1 [==============================] - 0s 22ms/step\n",
      "1/1 [==============================] - 0s 22ms/step\n",
      "1/1 [==============================] - 0s 22ms/step\n",
      "1/1 [==============================] - 0s 22ms/step\n",
      "\n",
      "\n",
      "1/1 [==============================] - 2s 2s/step\n",
      "1/1 [==============================] - 1s 720ms/step\n",
      "1/1 [==============================] - 0s 28ms/step\n",
      "1/1 [==============================] - 0s 26ms/step\n",
      "1/1 [==============================] - 0s 25ms/step\n",
      "1/1 [==============================] - 0s 24ms/step\n",
      "1/1 [==============================] - 0s 26ms/step\n",
      "1/1 [==============================] - 0s 23ms/step\n",
      "1/1 [==============================] - 0s 22ms/step\n",
      "1/1 [==============================] - 0s 22ms/step\n",
      "1/1 [==============================] - 0s 23ms/step\n",
      "1/1 [==============================] - 0s 23ms/step\n",
      "1/1 [==============================] - 0s 23ms/step\n",
      "1/1 [==============================] - 0s 31ms/step\n",
      "1/1 [==============================] - 0s 26ms/step\n",
      "1/1 [==============================] - 0s 23ms/step\n",
      "1/1 [==============================] - 0s 23ms/step\n",
      "1/1 [==============================] - 0s 24ms/step\n",
      "1/1 [==============================] - 0s 24ms/step\n",
      "1/1 [==============================] - 0s 24ms/step\n",
      "1/1 [==============================] - 0s 23ms/step\n",
      "1/1 [==============================] - 0s 23ms/step\n",
      "1/1 [==============================] - 0s 23ms/step\n",
      "1/1 [==============================] - 0s 22ms/step\n",
      "1/1 [==============================] - 0s 23ms/step\n",
      "1/1 [==============================] - 0s 23ms/step\n",
      "1/1 [==============================] - 0s 24ms/step\n",
      "1/1 [==============================] - 0s 23ms/step\n",
      "1/1 [==============================] - 0s 23ms/step\n",
      "1/1 [==============================] - 0s 23ms/step\n",
      "1/1 [==============================] - 0s 23ms/step\n",
      "1/1 [==============================] - 0s 22ms/step\n",
      "1/1 [==============================] - 0s 23ms/step\n",
      "1/1 [==============================] - 0s 22ms/step\n",
      "1/1 [==============================] - 0s 23ms/step\n",
      "1/1 [==============================] - 0s 25ms/step\n",
      "1/1 [==============================] - 0s 22ms/step\n",
      "1/1 [==============================] - 0s 22ms/step\n",
      "1/1 [==============================] - 0s 22ms/step\n",
      "1/1 [==============================] - 0s 22ms/step\n",
      "1/1 [==============================] - 0s 23ms/step\n",
      "1/1 [==============================] - 0s 23ms/step\n",
      "1/1 [==============================] - 0s 23ms/step\n",
      "1/1 [==============================] - 0s 22ms/step\n",
      "1/1 [==============================] - 0s 23ms/step\n",
      "1/1 [==============================] - 0s 22ms/step\n",
      "1/1 [==============================] - 0s 22ms/step\n",
      "1/1 [==============================] - 0s 23ms/step\n",
      "1/1 [==============================] - 0s 23ms/step\n",
      "1/1 [==============================] - 0s 22ms/step\n",
      "1/1 [==============================] - 0s 23ms/step\n",
      "1/1 [==============================] - 0s 23ms/step\n",
      "1/1 [==============================] - 0s 22ms/step\n",
      "1/1 [==============================] - 0s 22ms/step\n",
      "1/1 [==============================] - 0s 22ms/step\n",
      "\n",
      "\n"
     ]
    }
   ],
   "source": [
    "gen = []\n",
    "org = []\n",
    "for i in range(1500, 1505):\n",
    "    org.append(lines_test['Summarization'][i])\n",
    "    gen.append(temperature_sampling_decode_sequence(lines_test['Text'][i]))\n",
    "    print(\"\\n\")"
   ]
  },
  {
   "cell_type": "code",
   "execution_count": 51,
   "id": "cf659555",
   "metadata": {
    "editable": false,
    "execution": {
     "iopub.execute_input": "2024-09-29T21:09:49.957531Z",
     "iopub.status.busy": "2024-09-29T21:09:49.957123Z",
     "iopub.status.idle": "2024-09-29T21:09:49.963228Z",
     "shell.execute_reply": "2024-09-29T21:09:49.962410Z"
    },
    "papermill": {
     "duration": 0.692465,
     "end_time": "2024-09-29T21:09:49.965133",
     "exception": false,
     "start_time": "2024-09-29T21:09:49.272668",
     "status": "completed"
    },
    "tags": []
   },
   "outputs": [
    {
     "data": {
      "text/plain": [
       "\"from evaluate import load\\n# Load the ROUGE metric\\nimport evaluate\\nrouge = evaluate.load('rouge')\\n\\nresults = rouge.compute(predictions=[gen[0]], references=[org[0]])\\nprint(results)\""
      ]
     },
     "execution_count": 51,
     "metadata": {},
     "output_type": "execute_result"
    }
   ],
   "source": [
    "'''from evaluate import load\n",
    "# Load the ROUGE metric\n",
    "import evaluate\n",
    "rouge = evaluate.load('rouge')\n",
    "\n",
    "results = rouge.compute(predictions=[gen[0]], references=[org[0]])\n",
    "print(results)'''"
   ]
  },
  {
   "cell_type": "code",
   "execution_count": 52,
   "id": "6729e958",
   "metadata": {
    "execution": {
     "iopub.execute_input": "2024-09-29T21:09:51.398566Z",
     "iopub.status.busy": "2024-09-29T21:09:51.397841Z",
     "iopub.status.idle": "2024-09-29T21:09:51.568881Z",
     "shell.execute_reply": "2024-09-29T21:09:51.567999Z"
    },
    "papermill": {
     "duration": 0.854445,
     "end_time": "2024-09-29T21:09:51.571048",
     "exception": false,
     "start_time": "2024-09-29T21:09:50.716603",
     "status": "completed"
    },
    "tags": []
   },
   "outputs": [
    {
     "name": "stdout",
     "output_type": "stream",
     "text": [
      "0.49762463591729894\n"
     ]
    }
   ],
   "source": [
    "from nltk.translate.bleu_score import sentence_bleu\n",
    "\n",
    "score = sentence_bleu(org[2], gen[2])\n",
    "print(score)"
   ]
  },
  {
   "cell_type": "markdown",
   "id": "f3bd132b",
   "metadata": {
    "papermill": {
     "duration": 0.6875,
     "end_time": "2024-09-29T21:09:52.937436",
     "exception": false,
     "start_time": "2024-09-29T21:09:52.249936",
     "status": "completed"
    },
    "tags": []
   },
   "source": [
    "**The accuaray isn't good but in the future will improve the accuracy**"
   ]
  },
  {
   "cell_type": "markdown",
   "id": "a9943cd7",
   "metadata": {
    "papermill": {
     "duration": 0.790748,
     "end_time": "2024-09-29T21:09:54.409332",
     "exception": false,
     "start_time": "2024-09-29T21:09:53.618584",
     "status": "completed"
    },
    "tags": []
   },
   "source": [
    "****I need some advices to improve the accuray****"
   ]
  }
 ],
 "metadata": {
  "kaggle": {
   "accelerator": "gpu",
   "dataSources": [
    {
     "datasetId": 870709,
     "sourceId": 1483651,
     "sourceType": "datasetVersion"
    },
    {
     "datasetId": 1654566,
     "sourceId": 2734496,
     "sourceType": "datasetVersion"
    }
   ],
   "dockerImageVersionId": 30665,
   "isGpuEnabled": true,
   "isInternetEnabled": true,
   "language": "python",
   "sourceType": "notebook"
  },
  "kernelspec": {
   "display_name": "Python 3",
   "language": "python",
   "name": "python3"
  },
  "language_info": {
   "codemirror_mode": {
    "name": "ipython",
    "version": 3
   },
   "file_extension": ".py",
   "mimetype": "text/x-python",
   "name": "python",
   "nbconvert_exporter": "python",
   "pygments_lexer": "ipython3",
   "version": "3.10.13"
  },
  "papermill": {
   "default_parameters": {},
   "duration": 11878.405725,
   "end_time": "2024-09-29T21:09:58.142382",
   "environment_variables": {},
   "exception": null,
   "input_path": "__notebook__.ipynb",
   "output_path": "__notebook__.ipynb",
   "parameters": {},
   "start_time": "2024-09-29T17:51:59.736657",
   "version": "2.5.0"
  }
 },
 "nbformat": 4,
 "nbformat_minor": 5
}
